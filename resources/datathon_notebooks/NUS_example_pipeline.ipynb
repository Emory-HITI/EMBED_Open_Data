{
 "cells": [
  {
   "cell_type": "markdown",
   "id": "f4a6d832-dbbd-4be3-a432-b62b5c4340f8",
   "metadata": {},
   "source": [
    "# NUS Datathon Example Pipeline\n",
    "### Beatrice Brown-Mulry\n",
    "### 12/06/2024"
   ]
  },
  {
   "cell_type": "markdown",
   "id": "46c4375f-349e-4b83-a8f6-75fec56e487c",
   "metadata": {},
   "source": [
    "EMBED consists of a clinical dataframe (Magview) and a metadata dataframe. Each row in Magview corresponds to a unique finding while each row in Metadata corresponds to a unique image. Magview should be used to index the desired sample clinically, then Metadata can be used to index the findings to their corresponding images.\n",
    "\n",
    "![magview_metadata](../images/magview_metadata.png)"
   ]
  },
  {
   "cell_type": "markdown",
   "id": "e80de36a-87c8-4de5-9ad8-e2b8c75bf8b2",
   "metadata": {},
   "source": [
    "Since data in EMBED is hierarchical, following this general pattern while working with it can help prevent some hard-to-catch errors:\n",
    "\n",
    "![embed_logical_steps](../images/embed_logical_steps.png)"
   ]
  },
  {
   "cell_type": "markdown",
   "id": "9abc968d-366e-4abb-a733-9446bad0d7df",
   "metadata": {},
   "source": [
    "In this notebook we'll be going over a sample pipeline showing how the derived features in EMBED can be used to define a cancer vs no-cancer dataset in the clinical dataframe and index the relevant images from the metadata dataframe."
   ]
  },
  {
   "cell_type": "markdown",
   "id": "2563fb92-82ab-4ac5-be68-c1bc916ee74d",
   "metadata": {},
   "source": [
    "An understanding of the basic diagnostic pathway for breast cancer is important to working with EMBED. We've derived exam-level outcome variables to simplify this process, but you should keep the following graphic in your mind as you work with it. It shows the standard clinical pathway for most patients (*Not all!* People with non-standard screening risk profiles generally follow a different pathway).\n",
    "\n",
    "![0_full_pathway](../images/0_full_pathway.png)"
   ]
  },
  {
   "cell_type": "code",
   "execution_count": null,
   "id": "0c15c826-6b0a-41de-b587-bb575be6ad3b",
   "metadata": {},
   "outputs": [],
   "source": []
  },
  {
   "cell_type": "markdown",
   "id": "dffbc6af-fde0-4a14-8857-aa06630da7e7",
   "metadata": {},
   "source": [
    "## Contents\n",
    "- #### 0. Data Preparation\n",
    "- #### 1. Define Clinical Sample\n",
    "    - #### 1.1 EDA\n",
    "    - #### 1.2 Sample Definition\n",
    "- #### 2. Merge Image Metadata\n",
    "    - #### 2.1 Identify Images with ROIs\n",
    "    - #### 2.2 Identify Images with 1-to-1 Finding-to-ROI Mappings"
   ]
  },
  {
   "cell_type": "markdown",
   "id": "8ffce1f8-c5dc-4729-94ad-7bdb424527d1",
   "metadata": {},
   "source": [
    "---\n",
    "# 0. Data Preparation"
   ]
  },
  {
   "cell_type": "code",
   "execution_count": 1,
   "id": "e05d29b2-45ff-446d-b0f3-f3b5ada23002",
   "metadata": {},
   "outputs": [],
   "source": [
    "import pandas as pd\n",
    "import numpy as np\n",
    "from tqdm import tqdm\n",
    "import os\n",
    "import matplotlib.pyplot as plt\n",
    "\n",
    "pd.set_option('display.max_rows', 50)\n",
    "pd.set_option('display.max_columns', 500)\n",
    "pd.options.mode.chained_assignment = None  # default='warn'"
   ]
  },
  {
   "cell_type": "code",
   "execution_count": 2,
   "id": "d122a99b-809e-481b-8bb0-342c0fe164a2",
   "metadata": {},
   "outputs": [],
   "source": [
    "def dataframe_stats(df, title: str or None = None):\n",
    "    if title is not None:\n",
    "        print(f\"\\n{title}\")\n",
    "        \n",
    "    num_patients = df.empi_anon.nunique()\n",
    "    num_exams = df.acc_anon.nunique()\n",
    "    \n",
    "    print(f\"Patients: {num_patients}\")\n",
    "    print(f\"Exams: {num_exams}\")\n",
    "    \n",
    "    if 'png_path' in df.columns:\n",
    "        print(f\"Images: {df.png_path.nunique()}\\n\")\n",
    "    else:\n",
    "        print(f\"Findings: {len(df)}\\n\")"
   ]
  },
  {
   "cell_type": "markdown",
   "id": "2c1cb6a3-77b4-4a67-a352-95b11e141923",
   "metadata": {},
   "source": [
    "There are two versions of each dataframe available, the full data and the reduced column set. The reduced dataframes have all of the commonly used columns so should be suitable for most people"
   ]
  },
  {
   "cell_type": "code",
   "execution_count": 3,
   "id": "ee96d9e0-daa9-4050-a6c3-f0d2b3892ade",
   "metadata": {},
   "outputs": [
    {
     "name": "stderr",
     "output_type": "stream",
     "text": [
      "/tmp/ipykernel_704939/3422072335.py:1: DtypeWarning: Columns (7) have mixed types. Specify dtype option on import or set low_memory=False.\n",
      "  clinical_df = pd.read_csv(\"final_data/EMBED_OpenData_NUS_Datathon_clinical_reduced.csv\")\n",
      "/tmp/ipykernel_704939/3422072335.py:2: DtypeWarning: Columns (12,13) have mixed types. Specify dtype option on import or set low_memory=False.\n",
      "  meta_df = pd.read_csv(\"final_data/EMBED_OpenData_NUS_Datathon_metadata_reduced.csv\")\n"
     ]
    }
   ],
   "source": [
    "clinical_df = pd.read_csv(\"datathon_tables/EMBED_OpenData_NUS_Datathon_clinical_reduced.csv\")\n",
    "meta_df = pd.read_csv(\"datathon_tables/EMBED_OpenData_NUS_Datathon_metadata_reduced.csv\")"
   ]
  },
  {
   "cell_type": "code",
   "execution_count": 4,
   "id": "6fc0d7fa-7e9e-4c20-8d68-91eaacf973c2",
   "metadata": {},
   "outputs": [
    {
     "name": "stdout",
     "output_type": "stream",
     "text": [
      "\n",
      "clinical data\n",
      "Patients: 23379\n",
      "Exams: 76334\n",
      "Findings: 85669\n",
      "\n",
      "\n",
      "image metadata\n",
      "Patients: 23253\n",
      "Exams: 72731\n",
      "Images: 480081\n",
      "\n"
     ]
    }
   ],
   "source": [
    "dataframe_stats(clinical_df, \"clinical data\")\n",
    "dataframe_stats(meta_df, \"image metadata\")"
   ]
  },
  {
   "cell_type": "markdown",
   "id": "159bf0ce-d5af-49bd-8728-81c5b7a016a8",
   "metadata": {},
   "source": [
    "---\n",
    "# 1. Define Clinical Sample"
   ]
  },
  {
   "cell_type": "markdown",
   "id": "73ae3bfe-f906-4b2a-a951-4cdf8cdb3898",
   "metadata": {},
   "source": [
    "## 1.1 EDA"
   ]
  },
  {
   "cell_type": "markdown",
   "id": "5918b973-91d0-47fe-b1af-8b9ba3475221",
   "metadata": {},
   "source": [
    "Before we define the sample, let's do a brief EDA on the clinical dataframe."
   ]
  },
  {
   "cell_type": "code",
   "execution_count": 5,
   "id": "c08c874a-3f65-465d-8ae8-0be4334cc4b5",
   "metadata": {},
   "outputs": [
    {
     "data": {
      "text/html": [
       "<div>\n",
       "<style scoped>\n",
       "    .dataframe tbody tr th:only-of-type {\n",
       "        vertical-align: middle;\n",
       "    }\n",
       "\n",
       "    .dataframe tbody tr th {\n",
       "        vertical-align: top;\n",
       "    }\n",
       "\n",
       "    .dataframe thead th {\n",
       "        text-align: right;\n",
       "    }\n",
       "</style>\n",
       "<table border=\"1\" class=\"dataframe\">\n",
       "  <thead>\n",
       "    <tr style=\"text-align: right;\">\n",
       "      <th></th>\n",
       "      <th>empi_anon</th>\n",
       "      <th>age_at_study</th>\n",
       "      <th>ETHNIC_GROUP_DESC</th>\n",
       "      <th>race</th>\n",
       "      <th>ethnicity</th>\n",
       "      <th>MARITAL_STATUS_DESC</th>\n",
       "      <th>GENDER_DESC</th>\n",
       "      <th>first_3_zip</th>\n",
       "      <th>cohort_num</th>\n",
       "      <th>acc_anon</th>\n",
       "      <th>desc</th>\n",
       "      <th>screen_exam</th>\n",
       "      <th>study_date_anon</th>\n",
       "      <th>total_L_find</th>\n",
       "      <th>total_R_find</th>\n",
       "      <th>exam_laterality</th>\n",
       "      <th>exam_outcome</th>\n",
       "      <th>outcome_side</th>\n",
       "      <th>exam_birads</th>\n",
       "      <th>exam_path_severity</th>\n",
       "      <th>exam_path_desc</th>\n",
       "      <th>mass_side</th>\n",
       "      <th>asymmetry_side</th>\n",
       "      <th>arch_distortion_side</th>\n",
       "      <th>calcification_side</th>\n",
       "      <th>followup_birads</th>\n",
       "      <th>followup_path_severity</th>\n",
       "      <th>followup_bside</th>\n",
       "      <th>followup_type</th>\n",
       "      <th>earliest_dx_acc</th>\n",
       "      <th>earliest_us_acc</th>\n",
       "      <th>numfind</th>\n",
       "      <th>side</th>\n",
       "      <th>asses</th>\n",
       "      <th>path_severity</th>\n",
       "      <th>bside</th>\n",
       "      <th>procdate_anon</th>\n",
       "      <th>path1</th>\n",
       "      <th>path2</th>\n",
       "      <th>path3</th>\n",
       "      <th>tissueden</th>\n",
       "    </tr>\n",
       "  </thead>\n",
       "  <tbody>\n",
       "    <tr>\n",
       "      <th>0</th>\n",
       "      <td>39849800</td>\n",
       "      <td>42.380063</td>\n",
       "      <td>Non-Hispanic or Latino</td>\n",
       "      <td>Black</td>\n",
       "      <td>Not Hispanic or Latino</td>\n",
       "      <td>Married</td>\n",
       "      <td>Female</td>\n",
       "      <td>300.0</td>\n",
       "      <td>1</td>\n",
       "      <td>1734930095489167</td>\n",
       "      <td>MG Diagnostic Mammo Bilateral</td>\n",
       "      <td>False</td>\n",
       "      <td>2012-09-11</td>\n",
       "      <td>1.0</td>\n",
       "      <td>1.0</td>\n",
       "      <td>B</td>\n",
       "      <td>NaN</td>\n",
       "      <td>NaN</td>\n",
       "      <td>B</td>\n",
       "      <td>NaN</td>\n",
       "      <td>No Pathology</td>\n",
       "      <td>R</td>\n",
       "      <td>NaN</td>\n",
       "      <td>NaN</td>\n",
       "      <td>R</td>\n",
       "      <td>NaN</td>\n",
       "      <td>NaN</td>\n",
       "      <td>NaN</td>\n",
       "      <td>NaN</td>\n",
       "      <td>NaN</td>\n",
       "      <td>NaN</td>\n",
       "      <td>1</td>\n",
       "      <td>L</td>\n",
       "      <td>B</td>\n",
       "      <td>NaN</td>\n",
       "      <td>NaN</td>\n",
       "      <td>NaN</td>\n",
       "      <td>NaN</td>\n",
       "      <td>NaN</td>\n",
       "      <td>NaN</td>\n",
       "      <td>3.0</td>\n",
       "    </tr>\n",
       "    <tr>\n",
       "      <th>1</th>\n",
       "      <td>39849800</td>\n",
       "      <td>42.380063</td>\n",
       "      <td>Non-Hispanic or Latino</td>\n",
       "      <td>Black</td>\n",
       "      <td>Not Hispanic or Latino</td>\n",
       "      <td>Married</td>\n",
       "      <td>Female</td>\n",
       "      <td>300.0</td>\n",
       "      <td>1</td>\n",
       "      <td>1734930095489167</td>\n",
       "      <td>MG Diagnostic Mammo Bilateral</td>\n",
       "      <td>False</td>\n",
       "      <td>2012-09-11</td>\n",
       "      <td>1.0</td>\n",
       "      <td>1.0</td>\n",
       "      <td>B</td>\n",
       "      <td>NaN</td>\n",
       "      <td>NaN</td>\n",
       "      <td>B</td>\n",
       "      <td>NaN</td>\n",
       "      <td>No Pathology</td>\n",
       "      <td>R</td>\n",
       "      <td>NaN</td>\n",
       "      <td>NaN</td>\n",
       "      <td>R</td>\n",
       "      <td>NaN</td>\n",
       "      <td>NaN</td>\n",
       "      <td>NaN</td>\n",
       "      <td>NaN</td>\n",
       "      <td>NaN</td>\n",
       "      <td>NaN</td>\n",
       "      <td>2</td>\n",
       "      <td>R</td>\n",
       "      <td>B</td>\n",
       "      <td>NaN</td>\n",
       "      <td>NaN</td>\n",
       "      <td>NaN</td>\n",
       "      <td>NaN</td>\n",
       "      <td>NaN</td>\n",
       "      <td>NaN</td>\n",
       "      <td>3.0</td>\n",
       "    </tr>\n",
       "    <tr>\n",
       "      <th>2</th>\n",
       "      <td>64383145</td>\n",
       "      <td>72.792734</td>\n",
       "      <td>Unreported, Unknown, Unavailable</td>\n",
       "      <td>White</td>\n",
       "      <td>Unknown</td>\n",
       "      <td>Widow(er)</td>\n",
       "      <td>Female</td>\n",
       "      <td>300.0</td>\n",
       "      <td>1</td>\n",
       "      <td>9568336662008394</td>\n",
       "      <td>MG Screening Bilateral w/CAD</td>\n",
       "      <td>True</td>\n",
       "      <td>2013-07-31</td>\n",
       "      <td>0.0</td>\n",
       "      <td>0.0</td>\n",
       "      <td>B</td>\n",
       "      <td>Screen Negative</td>\n",
       "      <td>B</td>\n",
       "      <td>N</td>\n",
       "      <td>NaN</td>\n",
       "      <td>No Pathology</td>\n",
       "      <td>NaN</td>\n",
       "      <td>NaN</td>\n",
       "      <td>NaN</td>\n",
       "      <td>NaN</td>\n",
       "      <td>NaN</td>\n",
       "      <td>NaN</td>\n",
       "      <td>NaN</td>\n",
       "      <td>NaN</td>\n",
       "      <td>NaN</td>\n",
       "      <td>NaN</td>\n",
       "      <td>1</td>\n",
       "      <td>L</td>\n",
       "      <td>N</td>\n",
       "      <td>NaN</td>\n",
       "      <td>NaN</td>\n",
       "      <td>NaN</td>\n",
       "      <td>NaN</td>\n",
       "      <td>NaN</td>\n",
       "      <td>NaN</td>\n",
       "      <td>3.0</td>\n",
       "    </tr>\n",
       "    <tr>\n",
       "      <th>3</th>\n",
       "      <td>47229065</td>\n",
       "      <td>54.708858</td>\n",
       "      <td>Non-Hispanic or Latino</td>\n",
       "      <td>White</td>\n",
       "      <td>Not Hispanic or Latino</td>\n",
       "      <td>Married</td>\n",
       "      <td>Female</td>\n",
       "      <td>300.0</td>\n",
       "      <td>1</td>\n",
       "      <td>5874208938464010</td>\n",
       "      <td>MG Screening Bilateral w/CAD</td>\n",
       "      <td>True</td>\n",
       "      <td>2013-08-28</td>\n",
       "      <td>0.0</td>\n",
       "      <td>0.0</td>\n",
       "      <td>B</td>\n",
       "      <td>Screen Negative</td>\n",
       "      <td>B</td>\n",
       "      <td>N</td>\n",
       "      <td>NaN</td>\n",
       "      <td>No Pathology</td>\n",
       "      <td>NaN</td>\n",
       "      <td>NaN</td>\n",
       "      <td>NaN</td>\n",
       "      <td>NaN</td>\n",
       "      <td>NaN</td>\n",
       "      <td>NaN</td>\n",
       "      <td>NaN</td>\n",
       "      <td>NaN</td>\n",
       "      <td>NaN</td>\n",
       "      <td>NaN</td>\n",
       "      <td>1</td>\n",
       "      <td>L</td>\n",
       "      <td>N</td>\n",
       "      <td>NaN</td>\n",
       "      <td>NaN</td>\n",
       "      <td>NaN</td>\n",
       "      <td>NaN</td>\n",
       "      <td>NaN</td>\n",
       "      <td>NaN</td>\n",
       "      <td>3.0</td>\n",
       "    </tr>\n",
       "    <tr>\n",
       "      <th>4</th>\n",
       "      <td>60286517</td>\n",
       "      <td>63.804185</td>\n",
       "      <td>Unreported, Unknown, Unavailable</td>\n",
       "      <td>White</td>\n",
       "      <td>Unknown</td>\n",
       "      <td>Married</td>\n",
       "      <td>Female</td>\n",
       "      <td>301.0</td>\n",
       "      <td>1</td>\n",
       "      <td>3220760667053677</td>\n",
       "      <td>MG Diagnostic Left</td>\n",
       "      <td>False</td>\n",
       "      <td>2013-08-08</td>\n",
       "      <td>2.0</td>\n",
       "      <td>0.0</td>\n",
       "      <td>L</td>\n",
       "      <td>NaN</td>\n",
       "      <td>NaN</td>\n",
       "      <td>S</td>\n",
       "      <td>0.0</td>\n",
       "      <td>Invasive Cancer</td>\n",
       "      <td>L</td>\n",
       "      <td>NaN</td>\n",
       "      <td>NaN</td>\n",
       "      <td>L</td>\n",
       "      <td>NaN</td>\n",
       "      <td>NaN</td>\n",
       "      <td>NaN</td>\n",
       "      <td>NaN</td>\n",
       "      <td>NaN</td>\n",
       "      <td>NaN</td>\n",
       "      <td>1</td>\n",
       "      <td>L</td>\n",
       "      <td>P</td>\n",
       "      <td>NaN</td>\n",
       "      <td>NaN</td>\n",
       "      <td>NaN</td>\n",
       "      <td>NaN</td>\n",
       "      <td>NaN</td>\n",
       "      <td>NaN</td>\n",
       "      <td>3.0</td>\n",
       "    </tr>\n",
       "  </tbody>\n",
       "</table>\n",
       "</div>"
      ],
      "text/plain": [
       "   empi_anon  age_at_study                 ETHNIC_GROUP_DESC   race  \\\n",
       "0   39849800     42.380063            Non-Hispanic or Latino  Black   \n",
       "1   39849800     42.380063            Non-Hispanic or Latino  Black   \n",
       "2   64383145     72.792734  Unreported, Unknown, Unavailable  White   \n",
       "3   47229065     54.708858            Non-Hispanic or Latino  White   \n",
       "4   60286517     63.804185  Unreported, Unknown, Unavailable  White   \n",
       "\n",
       "                ethnicity MARITAL_STATUS_DESC GENDER_DESC first_3_zip  \\\n",
       "0  Not Hispanic or Latino             Married      Female       300.0   \n",
       "1  Not Hispanic or Latino             Married      Female       300.0   \n",
       "2                 Unknown           Widow(er)      Female       300.0   \n",
       "3  Not Hispanic or Latino             Married      Female       300.0   \n",
       "4                 Unknown             Married      Female       301.0   \n",
       "\n",
       "   cohort_num          acc_anon                           desc  screen_exam  \\\n",
       "0           1  1734930095489167  MG Diagnostic Mammo Bilateral        False   \n",
       "1           1  1734930095489167  MG Diagnostic Mammo Bilateral        False   \n",
       "2           1  9568336662008394   MG Screening Bilateral w/CAD         True   \n",
       "3           1  5874208938464010   MG Screening Bilateral w/CAD         True   \n",
       "4           1  3220760667053677             MG Diagnostic Left        False   \n",
       "\n",
       "  study_date_anon  total_L_find  total_R_find exam_laterality  \\\n",
       "0      2012-09-11           1.0           1.0               B   \n",
       "1      2012-09-11           1.0           1.0               B   \n",
       "2      2013-07-31           0.0           0.0               B   \n",
       "3      2013-08-28           0.0           0.0               B   \n",
       "4      2013-08-08           2.0           0.0               L   \n",
       "\n",
       "      exam_outcome outcome_side exam_birads  exam_path_severity  \\\n",
       "0              NaN          NaN           B                 NaN   \n",
       "1              NaN          NaN           B                 NaN   \n",
       "2  Screen Negative            B           N                 NaN   \n",
       "3  Screen Negative            B           N                 NaN   \n",
       "4              NaN          NaN           S                 0.0   \n",
       "\n",
       "    exam_path_desc mass_side asymmetry_side arch_distortion_side  \\\n",
       "0     No Pathology         R            NaN                  NaN   \n",
       "1     No Pathology         R            NaN                  NaN   \n",
       "2     No Pathology       NaN            NaN                  NaN   \n",
       "3     No Pathology       NaN            NaN                  NaN   \n",
       "4  Invasive Cancer         L            NaN                  NaN   \n",
       "\n",
       "  calcification_side followup_birads  followup_path_severity followup_bside  \\\n",
       "0                  R             NaN                     NaN            NaN   \n",
       "1                  R             NaN                     NaN            NaN   \n",
       "2                NaN             NaN                     NaN            NaN   \n",
       "3                NaN             NaN                     NaN            NaN   \n",
       "4                  L             NaN                     NaN            NaN   \n",
       "\n",
       "  followup_type  earliest_dx_acc  earliest_us_acc  numfind side asses  \\\n",
       "0           NaN              NaN              NaN        1    L     B   \n",
       "1           NaN              NaN              NaN        2    R     B   \n",
       "2           NaN              NaN              NaN        1    L     N   \n",
       "3           NaN              NaN              NaN        1    L     N   \n",
       "4           NaN              NaN              NaN        1    L     P   \n",
       "\n",
       "   path_severity bside procdate_anon path1 path2 path3  tissueden  \n",
       "0            NaN   NaN           NaN   NaN   NaN   NaN        3.0  \n",
       "1            NaN   NaN           NaN   NaN   NaN   NaN        3.0  \n",
       "2            NaN   NaN           NaN   NaN   NaN   NaN        3.0  \n",
       "3            NaN   NaN           NaN   NaN   NaN   NaN        3.0  \n",
       "4            NaN   NaN           NaN   NaN   NaN   NaN        3.0  "
      ]
     },
     "execution_count": 5,
     "metadata": {},
     "output_type": "execute_result"
    }
   ],
   "source": [
    "clinical_df.head()"
   ]
  },
  {
   "cell_type": "code",
   "execution_count": 6,
   "id": "e9e5eb07-b0c9-41dc-b895-0f0eab6423e6",
   "metadata": {},
   "outputs": [
    {
     "data": {
      "text/plain": [
       "screen_exam\n",
       "True     61737\n",
       "False    23932\n",
       "Name: count, dtype: int64"
      ]
     },
     "execution_count": 6,
     "metadata": {},
     "output_type": "execute_result"
    }
   ],
   "source": [
    "clinical_df.screen_exam.value_counts(dropna=False)"
   ]
  },
  {
   "cell_type": "markdown",
   "id": "c4bf38aa-975c-4306-826d-3241adf1d043",
   "metadata": {},
   "source": [
    "> Exams in EMBED are either screening or diagnostic. Patients generally receive regular screening exams to ensure they don't have a developing breast cancer. Due to this, most screen exams are (and should be) negative, with only a small proportion continuing to develop cancer. Diagnostics exams are generally performed to confirm the presence of some identified finding. These can be performed as followups to abnormal screening studies (a BIRADS 'A'/0 finding) or as symptomatic admissions (the patient had some symptom suggestive of a lesion so they're directly scheduled for a diagnostic)."
   ]
  },
  {
   "cell_type": "markdown",
   "id": "a00f104c-5b2a-466f-95cf-2b541b5eb068",
   "metadata": {},
   "source": [
    "> Diagnostic images commonly used paddles to spread and magnify specific regions of tissue (these are indicated where `spot_mag == 1.0` in the image metadata). These can make their inclusion in screening-stage models dangerous, as models will form shortcuts based on their presence. Most models should exclusively used screening images, but if you'd like to use diagnostics, we've algorithmically extracted the target tissue patches from most images with a `spot_mag` paddle. These images can be located with the `spot_mag_png_path` column where relevant."
   ]
  },
  {
   "cell_type": "markdown",
   "id": "e8a697cb-6572-49b7-81b1-119657169b9c",
   "metadata": {},
   "source": [
    ">A number of features have been derived to make working with EMBED simpler:\n",
    "\n",
    ">- `exam_birads`:\n",
    "  > Carries the most severe BIRADS score for the exam (finding level BIRADS is carried by the column `asses`). 'Invalid' if an invalid BIRADS for that exam type (screening or diagnostic) is present.\n",
    "  >\n",
    "  > Possible screen values: `['A', 'N', 'B']`\n",
    "  >\n",
    "  > Possible diagnostic values: `['N', 'B', 'P', 'S', 'M', 'K']`\n",
    "  \n",
    ">- `exam_path_severity`:\n",
    "  > Carries the most severe pathology finding for the exam as a numeric 0-5\n",
    "  >\n",
    "  > Possible values: `[0: 'Invasive Cancer', 1: 'Noninvasive Cancer', 2: 'High Risk Lesion', 3: 'Borderline Lesion', 4: 'Benign Lesion', 5: 'Non-Breast Cancer']`\n",
    "\n",
    ">- `exam_path_desc`:\n",
    "  > Carries the most severe pathology finding for the exam as a text description\n",
    "  >\n",
    "  > Possible values: `['Invasive Cancer', 'Noninvasive Cancer', 'High Risk Lesion', 'Borderline Lesion', 'Benign Lesion', 'Non-Breast Cancer']`\n",
    "  \n",
    ">- `exam_outcome`:\n",
    "  > Text description of the overall exam outcome (considering any available biopsy information and follow-up diagnostics)\n",
    "  >\n",
    "  > Possible values: `['Screen Negative', 'Diagnostic Negative', 'Confirmed Benign', 'Screen Detected Cancer', 'Interval Cancer']`\n",
    "\n",
    ">- `outcome_side`:\n",
    "  > Exam side relevant to the `exam_outcome` (generally the same as `exam_laterality`, unless the outcome depends on a unilateral biopsy finding)"
   ]
  },
  {
   "cell_type": "code",
   "execution_count": 7,
   "id": "6108aeb9-a782-4b4d-8104-59e6f8ad6a1b",
   "metadata": {},
   "outputs": [
    {
     "data": {
      "text/plain": [
       "exam_outcome\n",
       "Screen Negative        49587\n",
       "Diagnostic Negative     4752\n",
       "NaN                     3067\n",
       "Confirmed Benign         969\n",
       "Confirmed Cancer         323\n",
       "Interval Cancer           33\n",
       "Other Cancer              11\n",
       "Name: count, dtype: int64"
      ]
     },
     "execution_count": 7,
     "metadata": {},
     "output_type": "execute_result"
    }
   ],
   "source": [
    "clinical_df.drop_duplicates('acc_anon').loc[clinical_df.screen_exam == True, 'exam_outcome'].value_counts(dropna=False)"
   ]
  },
  {
   "cell_type": "markdown",
   "id": "0c9fc8a0-455c-4d35-9a70-55eb28e69d0c",
   "metadata": {},
   "source": [
    ">Each `exam_outcome` corresponds to a general category of exams.\n",
    "\n",
    ">- `Screen Negatives` are screening exams with no abnormal findings that required a follow-up diagnostic.\n",
    "\n",
    ">- `Diagnostic Negatives` are exams that had at least one abnormal (BIRADS 0) finding at screen, but were found to be negative/benign during a follow-up diagnostic.\n",
    "\n",
    ">- `Confirmed Benigns` are exams that had at least one abnormal (BIRADS 0) finding at screen, were considered likely to be malignant at diagnostic (BIRADS 4/5), then had only benign pathology findings (high-risk lesions, borderline lesions, or benign/negative lesions) at biopsy.\n",
    "\n",
    ">- `Confirmed Benigns` are exams that had at least one abnormal (BIRADS 0) finding at screen, were considered likely to be malignant at diagnostic (BIRADS 4/5), then had an invasive or non-invasive cancer finding at biopsy.\n",
    "\n",
    ">- `Interval Cancers` are exams that were exclusively negative/benign at screening, but developed a cancer within the following year which was detected on a symptomatic diagnostic.\n",
    "\n",
    ">- `Other Cancers` are exams that had a non-breast cancer pathology result on biopsy. These exams should generally be excluded as they fall outside the standard screening-risk profile."
   ]
  },
  {
   "cell_type": "code",
   "execution_count": 8,
   "id": "25601121-11c9-4927-b4f7-dc3610246e9e",
   "metadata": {},
   "outputs": [
    {
     "data": {
      "text/plain": [
       "outcome_side\n",
       "B      55098\n",
       "L       1833\n",
       "R       1773\n",
       "NaN       38\n",
       "Name: count, dtype: int64"
      ]
     },
     "execution_count": 8,
     "metadata": {},
     "output_type": "execute_result"
    }
   ],
   "source": [
    "clinical_df.drop_duplicates('acc_anon').loc[clinical_df.screen_exam == True, 'outcome_side'].value_counts(dropna=False)"
   ]
  },
  {
   "cell_type": "markdown",
   "id": "4cd3795b-fb2e-4461-a5e0-9e667c9af035",
   "metadata": {},
   "source": [
    "> An `outcome_side` feature has been derived to make it obvious which side of the exam is relevant to the outcome (for example, cancers don't always develop on both left/right breasts simultaneously). For most exams, this is the same as the overall exam laterality but in cases where the outcome was based on a pathology finding, this feature indicates which side(s) the biopsy results correspond to."
   ]
  },
  {
   "cell_type": "code",
   "execution_count": 9,
   "id": "988b696b-2e86-440f-8056-1497f454ad48",
   "metadata": {},
   "outputs": [
    {
     "data": {
      "text/plain": [
       "mass_side  asymmetry_side  arch_distortion_side  calcification_side\n",
       "NaN        NaN             NaN                   NaN                   57442\n",
       "           B               NaN                   NaN                    5040\n",
       "           NaN             NaN                   B                      2633\n",
       "B          NaN             NaN                   NaN                    2459\n",
       "NaN        L               NaN                   NaN                    1090\n",
       "                                                                       ...  \n",
       "           B               B                     B                         1\n",
       "           R               R                     R                         1\n",
       "                           B                     NaN                       1\n",
       "           L               L                     L                         1\n",
       "                                                 R                         1\n",
       "Name: count, Length: 110, dtype: int64"
      ]
     },
     "execution_count": 9,
     "metadata": {},
     "output_type": "execute_result"
    }
   ],
   "source": [
    "clinical_df.drop_duplicates('acc_anon')[['mass_side', 'asymmetry_side', 'arch_distortion_side', 'calcification_side']].value_counts(dropna=False)"
   ]
  },
  {
   "cell_type": "markdown",
   "id": "30bf8c0a-0662-45e1-9289-790726bc39ce",
   "metadata": {},
   "source": [
    ">The `mass_side`, `asymmetry_side`, `arch_distortion_side`, and `calcification_side` features were derived to indicate where finding types were identified on exams. 'L' indicates than an exam had a finding type on the left side, 'R' indicates a finding type on the right side, and 'B' indicates a bilateral finding. \n",
    "\n",
    ">**Note**: these features are not mutually exclusive, and an exam side may have multiple finding types of each side.\n",
    "\n",
    ">**Note**: in EMBED it's not possible to directly match a mammographic finding to a pathology finding (UNLESS that exam only has 1 finding on the relevant side). For example, for an exam with both a calcification and mass on the left side, it would not be possible to localize them to individual ROIs or determine which of the two developed into cancer. If you want a 1-to-1 mapping between finding characteristics and ROIs, you must select exams with only 1 finding per laterality (this can be determined by the `total_L_find` and `total_R_find` columns) and match them to images with ROIs."
   ]
  },
  {
   "cell_type": "code",
   "execution_count": null,
   "id": "12eb3f0a-2251-4ae6-a036-0a917e33c4a7",
   "metadata": {},
   "outputs": [],
   "source": []
  },
  {
   "cell_type": "markdown",
   "id": "f23e7f99-d1da-408d-b7f8-8ddffca65044",
   "metadata": {},
   "source": [
    "## 1.2 Sample Definition"
   ]
  },
  {
   "cell_type": "code",
   "execution_count": 10,
   "id": "d778745c-1c06-49bc-867d-247fe946a0c3",
   "metadata": {},
   "outputs": [
    {
     "name": "stdout",
     "output_type": "stream",
     "text": [
      "\n",
      "screen exam clinical data\n",
      "Patients: 20618\n",
      "Exams: 58742\n",
      "Findings: 61737\n",
      "\n"
     ]
    }
   ],
   "source": [
    "# i only want screen-stage images, so i'll first filter my dataframe to only contain screening images\n",
    "# `screen_exam` was derived from the exam descriptions, so this is equivalent to:\n",
    "# screen_df = clinical_df[clinical_df.desc.str.contains('screen', case=False)]\n",
    "screen_df = clinical_df[clinical_df.screen_exam == True]\n",
    "dataframe_stats(screen_df, \"screen exam clinical data\")\n"
   ]
  },
  {
   "cell_type": "code",
   "execution_count": 11,
   "id": "22dfc135-686a-4b2b-a252-01e0f0babbc7",
   "metadata": {},
   "outputs": [],
   "source": [
    "# i'm going to formulate this problem for a binary classification model with confirmed cancer\n",
    "# (you may choose to include/exclude interval cancers entirely) as the positive\n",
    "# class, and other outcomes as the negative class\n",
    "pos_class_list = ['Confirmed Cancer', 'Interval Cancer']\n",
    "neg_class_list = ['Screen Negative', 'Diagnostic Negative', 'Confirmed Benign']"
   ]
  },
  {
   "cell_type": "code",
   "execution_count": 12,
   "id": "fce9764d-d218-4bac-86cf-0631aab5c036",
   "metadata": {},
   "outputs": [
    {
     "data": {
      "text/plain": [
       "exam_outcome         exam_class\n",
       "Screen Negative      0             49587\n",
       "Diagnostic Negative  0              4752\n",
       "NaN                  0              3067\n",
       "Confirmed Benign     0               969\n",
       "Confirmed Cancer     1               323\n",
       "Interval Cancer      1                33\n",
       "Other Cancer         0                11\n",
       "Name: count, dtype: int64"
      ]
     },
     "metadata": {},
     "output_type": "display_data"
    },
    {
     "data": {
      "text/plain": [
       "exam_class\n",
       "0    0.99394\n",
       "1    0.00606\n",
       "Name: proportion, dtype: float64"
      ]
     },
     "metadata": {},
     "output_type": "display_data"
    }
   ],
   "source": [
    "# lets make a new column to carry the overall class for each exam as an integer\n",
    "screen_df['exam_class'] = (screen_df['exam_outcome'].isin(pos_class_list)).astype(int)\n",
    "# remember to drop duplicates on 'acc_anon' (exam_id) if you're checking the frequency of an exam-level feature\n",
    "display(screen_df.drop_duplicates('acc_anon')[['exam_outcome', 'exam_class']].value_counts(dropna=False))\n",
    "display(screen_df.drop_duplicates('acc_anon')['exam_class'].value_counts(dropna=False, normalize=True))"
   ]
  },
  {
   "cell_type": "markdown",
   "id": "3f730ae8-92b2-4011-ab37-44df41482018",
   "metadata": {},
   "source": [
    "> For most cancer-related contexts you'll have to deal with pretty extreme class imbalances. Less than 1% of our exams are cancers"
   ]
  },
  {
   "cell_type": "code",
   "execution_count": 13,
   "id": "2ac6ed16-9311-413e-89bd-8ba9cb2712b3",
   "metadata": {},
   "outputs": [
    {
     "data": {
      "text/plain": [
       "exam_outcome         exam_class\n",
       "Screen Negative      0             49587\n",
       "Diagnostic Negative  0              4752\n",
       "Confirmed Benign     0               969\n",
       "Confirmed Cancer     1               323\n",
       "Interval Cancer      1                33\n",
       "Name: count, dtype: int64"
      ]
     },
     "metadata": {},
     "output_type": "display_data"
    },
    {
     "data": {
      "text/plain": [
       "exam_class\n",
       "0    0.993604\n",
       "1    0.006396\n",
       "Name: proportion, dtype: float64"
      ]
     },
     "metadata": {},
     "output_type": "display_data"
    }
   ],
   "source": [
    "# you may have noticed we also have some exams with a NaN outcome, these are exams that did not fit any of the\n",
    "# clinical criteria cleanly so they could not be categorized, we'll exclude these cases and the exams with a non-breast cancer\n",
    "filt_screen_df = screen_df[screen_df.exam_outcome.isin(pos_class_list) | screen_df.exam_outcome.isin(neg_class_list)]\n",
    "display(filt_screen_df.drop_duplicates('acc_anon')[['exam_outcome', 'exam_class']].value_counts(dropna=False))\n",
    "display(filt_screen_df.drop_duplicates('acc_anon')['exam_class'].value_counts(dropna=False, normalize=True))"
   ]
  },
  {
   "cell_type": "code",
   "execution_count": 14,
   "id": "95aee907-ce7d-433e-9451-94cf36e48e3a",
   "metadata": {},
   "outputs": [
    {
     "name": "stdout",
     "output_type": "stream",
     "text": [
      "\n",
      "filtered screen dataframe\n",
      "Patients: 19342\n",
      "Exams: 55664\n",
      "Findings: 57985\n",
      "\n"
     ]
    }
   ],
   "source": [
    "dataframe_stats(filt_screen_df, \"filtered screen dataframe\")"
   ]
  },
  {
   "cell_type": "code",
   "execution_count": 15,
   "id": "4892dd85-0584-4863-bf58-106e9a945357",
   "metadata": {},
   "outputs": [
    {
     "data": {
      "text/plain": [
       "exam_outcome         exam_class  L_class  R_class\n",
       "Screen Negative      0           0        0          49587\n",
       "Diagnostic Negative  0           0        0           4752\n",
       "Confirmed Benign     0           0        0            969\n",
       "Confirmed Cancer     1           0        1            152\n",
       "                                 1        0            146\n",
       "                                          1             23\n",
       "Interval Cancer      1           0        1             18\n",
       "                                 1        0             15\n",
       "Confirmed Cancer     1           0        0              2\n",
       "Name: count, dtype: int64"
      ]
     },
     "metadata": {},
     "output_type": "display_data"
    }
   ],
   "source": [
    "# now i'm going to use the `outcome_side` feature to make two new columns so it's easy to tell which\n",
    "# images we should match to each exam\n",
    "filt_screen_df['L_class'] = 0\n",
    "filt_screen_df.loc[(filt_screen_df.exam_class == 1) & filt_screen_df.outcome_side.isin(['B', 'L']), 'L_class'] = 1\n",
    "\n",
    "filt_screen_df['R_class'] = 0\n",
    "filt_screen_df.loc[(filt_screen_df.exam_class == 1) & filt_screen_df.outcome_side.isin(['B', 'R']), 'R_class'] = 1\n",
    "\n",
    "display(filt_screen_df.drop_duplicates('acc_anon')[['exam_outcome', 'exam_class', 'L_class', 'R_class']].value_counts(dropna=False))"
   ]
  },
  {
   "cell_type": "code",
   "execution_count": 17,
   "id": "88bd9147-4df8-4930-b812-75c53ca385c1",
   "metadata": {},
   "outputs": [
    {
     "data": {
      "text/plain": [
       "exam_outcome         exam_class  L_class  R_class\n",
       "Screen Negative      0           0        0          49587\n",
       "Diagnostic Negative  0           0        0           4752\n",
       "Confirmed Benign     0           0        0            969\n",
       "Confirmed Cancer     1           0        1            152\n",
       "                                 1        0            146\n",
       "                                          1             23\n",
       "Interval Cancer      1           0        1             18\n",
       "                                 1        0             15\n",
       "Name: count, dtype: int64"
      ]
     },
     "metadata": {},
     "output_type": "display_data"
    }
   ],
   "source": [
    "# ensure all of our positive exams are positive on at least one side\n",
    "# there may be some where we have insufficient info to verify the side of the cancer\n",
    "# you may choose to retain these exams (knowing they may introduce some noise) \n",
    "# but we'll exclude them for now\n",
    "filt_screen_df = filt_screen_df[(filt_screen_df.exam_class == 0.0) | ((filt_screen_df.exam_class == 1.0) & ((filt_screen_df.L_class == 1.0) | (filt_screen_df.R_class == 1.0)))]\n",
    "display(filt_screen_df.drop_duplicates('acc_anon')[['exam_outcome', 'exam_class', 'L_class', 'R_class']].value_counts(dropna=False))"
   ]
  },
  {
   "cell_type": "code",
   "execution_count": 34,
   "id": "bf6c6e5b-ce9f-420a-bd9b-45d4c26f5ea5",
   "metadata": {},
   "outputs": [
    {
     "name": "stdout",
     "output_type": "stream",
     "text": [
      "Num. Unique Rows: 55662\n",
      "Num. Unique Exam IDs: 55662\n",
      "Any Duplicate Accessions? False\n"
     ]
    }
   ],
   "source": [
    "# to make it easier to merge with the image metadata, i'm going to filter this data to \n",
    "# only contain exam-level (or patient-level) data so i can drop duplicate rows and \n",
    "# ensure each row maps to a unique exam\n",
    "exam_cols = ['empi_anon', 'age_at_study', 'race', 'ethnicity', 'cohort_num', 'tissueden', 'acc_anon', 'desc', 'screen_exam', 'study_date_anon', 'total_L_find', 'total_R_find', 'exam_laterality', 'exam_outcome', 'exam_class', 'L_class', 'R_class', 'outcome_side', 'exam_birads', 'exam_path_severity', 'exam_path_desc', 'mass_side', 'asymmetry_side', 'arch_distortion_side', 'calcification_side']\n",
    "filt_exam_df = filt_screen_df[exam_cols].drop_duplicates()\n",
    "\n",
    "print('Num. Unique Rows:', len(filt_exam_df))\n",
    "print('Num. Unique Exam IDs:', filt_exam_df.acc_anon.nunique())\n",
    "print(f'Any Duplicate Accessions? {len(filt_exam_df) != filt_exam_df.acc_anon.nunique()}')"
   ]
  },
  {
   "cell_type": "markdown",
   "id": "681d8735-a33c-4d7f-b252-d3b48b63a5b7",
   "metadata": {},
   "source": [
    "---\n",
    "# 2. Merge Image Metadata"
   ]
  },
  {
   "cell_type": "code",
   "execution_count": 51,
   "id": "e6a13652-a4fd-4ff4-8c30-116c9bd20b99",
   "metadata": {},
   "outputs": [
    {
     "name": "stdout",
     "output_type": "stream",
     "text": [
      "\n",
      "2D image metadata\n",
      "Patients: 23245\n",
      "Exams: 72308\n",
      "Images: 334515\n",
      "\n"
     ]
    }
   ],
   "source": [
    "# i only want to use 2D images for my dataset, so i'll first filter the metadata dataframe to select these\n",
    "# and exclude any spot_mag images\n",
    "meta_2d = meta_df[(meta_df.FinalImageType == '2D') & (meta_df.spot_mag != 1.0)]\n",
    "dataframe_stats(meta_2d, \"2D image metadata\")"
   ]
  },
  {
   "cell_type": "code",
   "execution_count": 52,
   "id": "7d132428-76b6-4880-bcc7-b599250e9b6f",
   "metadata": {},
   "outputs": [
    {
     "name": "stdout",
     "output_type": "stream",
     "text": [
      "\n",
      "clinical/metadata merge\n",
      "Patients: 19120\n",
      "Exams: 52919\n",
      "Images: 261451\n",
      "\n"
     ]
    }
   ],
   "source": [
    "# lets merge the image metadata onto our clinical exam dataframe on the exam ID variable 'acc_anon'\n",
    "meta_drop_cols = ['empi_anon', 'cohort_num', 'study_date_anon'] # we'll drop these columns during the merge to avoid duping them\n",
    "merge_df = filt_exam_df.merge(meta_2d.drop(columns=meta_drop_cols), how='inner', on='acc_anon')\n",
    "dataframe_stats(merge_df, \"clinical/metadata merge\")"
   ]
  },
  {
   "cell_type": "code",
   "execution_count": 54,
   "id": "c1a3f9ed-6cf4-446e-a6f4-7d87dc49b75b",
   "metadata": {},
   "outputs": [
    {
     "name": "stdout",
     "output_type": "stream",
     "text": [
      "\n",
      "finalized clinical/metadata merge\n",
      "Patients: 19120\n",
      "Exams: 52919\n",
      "Images: 260673\n",
      "\n"
     ]
    }
   ],
   "source": [
    "# finally, we need to filter these so we're only retaining the images from the sides relevant to our exam outcomes\n",
    "# for unilateral positive cases it can be a good idea in practice to include their contralateral negatives in the negative set\n",
    "# but for the sake of demonstration we won't consider these\n",
    "merge_df = merge_df[\n",
    "    (merge_df.exam_class == 0) # allow any negative images\n",
    "    | (\n",
    "        (merge_df.exam_class == 1) # or left pos images if the left side is pos\n",
    "        & (merge_df.ImageLateralityFinal == \"L\") \n",
    "        & (merge_df.L_class == 1)\n",
    "    ) \n",
    "    | (\n",
    "        (merge_df.exam_class == 1) # or right pos images if the right side is pos\n",
    "        & (merge_df.ImageLateralityFinal == \"R\") \n",
    "        & (merge_df.R_class == 1.0)\n",
    "    )\n",
    "]\n",
    "dataframe_stats(merge_df, \"finalized clinical/metadata merge\")\n"
   ]
  },
  {
   "cell_type": "markdown",
   "id": "972fd69b-fb42-4cfc-a8ca-fc1dada11b34",
   "metadata": {},
   "source": [
    "> We've now matched our images to their clinical data, and built a Cancer vs No-Cancer dataframe which we could use for some downstream purpose. Alternately, we could choose to refine this further"
   ]
  },
  {
   "cell_type": "code",
   "execution_count": null,
   "id": "971c9a7c-259b-4703-9ad8-964018ff7ed9",
   "metadata": {},
   "outputs": [],
   "source": []
  },
  {
   "cell_type": "markdown",
   "id": "a22f3700-853f-4a9a-a18b-147aa29db55f",
   "metadata": {},
   "source": [
    "## 2.1 Identify Images with ROIs"
   ]
  },
  {
   "cell_type": "markdown",
   "id": "5e3a660c-fbfb-4649-86ff-573f56a780b5",
   "metadata": {},
   "source": [
    "> Let's say we instead wanted to use patches to train a model instead of full images. Let's filter this dataframe to identify our images with ROIs and plot a few.\n",
    "\n",
    "> We can identify the number of ROIs per-image with the `num_roi` column. As you can see, most images don't have ROIs and their distribution is not even across our data. Most ROIs are matched to abnormal screening exams (with very few on negative/benign screening exams or diagnostic follow-ups)."
   ]
  },
  {
   "cell_type": "code",
   "execution_count": 55,
   "id": "cfa244c2-3d35-4225-9aaa-1690e28d63e2",
   "metadata": {},
   "outputs": [
    {
     "data": {
      "text/plain": [
       "exam_class\n",
       "0    3087\n",
       "1     223\n",
       "Name: count, dtype: int64"
      ]
     },
     "metadata": {},
     "output_type": "display_data"
    },
    {
     "data": {
      "text/plain": [
       "exam_class\n",
       "0    0.932628\n",
       "1    0.067372\n",
       "Name: proportion, dtype: float64"
      ]
     },
     "metadata": {},
     "output_type": "display_data"
    }
   ],
   "source": [
    "display(merge_df[merge_df.num_roi > 0].exam_class.value_counts(dropna=False))\n",
    "display(merge_df[merge_df.num_roi > 0].exam_class.value_counts(dropna=False, normalize=True))"
   ]
  },
  {
   "cell_type": "markdown",
   "id": "f00dd342-c6d7-4a52-b81e-c3cfd18648f4",
   "metadata": {},
   "source": [
    "> For now we'll just require all of our images to have >=1 ROI, but in a proper study you'd likely need to generate some additional negative patches. We've otherwise just heavily skewed the distribution of our dataset (and any results/metrics we get from a downstream model are unlikely to be useful in practice)"
   ]
  },
  {
   "cell_type": "code",
   "execution_count": 56,
   "id": "e2ddc07a-f69b-4a60-90f3-79489e1f86b4",
   "metadata": {},
   "outputs": [
    {
     "data": {
      "text/plain": [
       "exam_outcome         num_roi\n",
       "Diagnostic Negative  1          2057\n",
       "Confirmed Benign     1           479\n",
       "Diagnostic Negative  2           368\n",
       "Screen Negative      1            66\n",
       "Confirmed Benign     2            56\n",
       "Diagnostic Negative  3            33\n",
       "                     4            10\n",
       "Confirmed Benign     3             6\n",
       "Screen Negative      2             6\n",
       "                     3             4\n",
       "Confirmed Benign     4             1\n",
       "Diagnostic Negative  6             1\n",
       "Name: count, dtype: int64"
      ]
     },
     "metadata": {},
     "output_type": "display_data"
    },
    {
     "data": {
      "text/plain": [
       "exam_outcome      num_roi\n",
       "Confirmed Cancer  1          186\n",
       "                  2           28\n",
       "                  3            6\n",
       "Interval Cancer   1            2\n",
       "Confirmed Cancer  4            1\n",
       "Name: count, dtype: int64"
      ]
     },
     "metadata": {},
     "output_type": "display_data"
    }
   ],
   "source": [
    "roi_df = merge_df[merge_df.num_roi > 0]\n",
    "display(roi_df.loc[roi_df.exam_class == 0, ['exam_outcome', 'num_roi']].value_counts())\n",
    "display(roi_df.loc[roi_df.exam_class == 1, ['exam_outcome', 'num_roi']].value_counts())"
   ]
  },
  {
   "cell_type": "markdown",
   "id": "a8c01a31-b2c7-4bdd-9746-e2e603f41796",
   "metadata": {},
   "source": [
    "This dataframe is now ready for downstream tasks. Please see the **EMBED ROI Reference** and the accompanying notebook for more information on using ROIs."
   ]
  },
  {
   "cell_type": "code",
   "execution_count": null,
   "id": "8dcc9a78-6290-4c24-8990-4d233d3cd5a0",
   "metadata": {},
   "outputs": [],
   "source": []
  },
  {
   "cell_type": "markdown",
   "id": "d1a20ca8-0cc5-4715-96d7-486a9611c854",
   "metadata": {},
   "source": [
    "## 2.2 Identify Images with 1-to-1 Finding-to-ROI Mappings"
   ]
  },
  {
   "cell_type": "markdown",
   "id": "f82f2553-ddc3-4494-851b-3d7a8f5954d0",
   "metadata": {},
   "source": [
    "If you wanted to maximize confidence in your ROI characteristics you may want to enforce a 1-to-1 mapping requirement. You can do this by requiring all images to have 1 ROI, and the corresponding exam side to only have 1 finding (this is tracked by the `total_L_find` and `total_R_find` columns)."
   ]
  },
  {
   "cell_type": "code",
   "execution_count": 61,
   "id": "7b298496-be0a-4e77-a502-1b155abc44b5",
   "metadata": {},
   "outputs": [
    {
     "data": {
      "text/plain": [
       "exam_class  exam_outcome       \n",
       "0           Diagnostic Negative    1884\n",
       "            Confirmed Benign        416\n",
       "1           Confirmed Cancer        166\n",
       "0           Screen Negative          66\n",
       "1           Interval Cancer           2\n",
       "Name: count, dtype: int64"
      ]
     },
     "execution_count": 61,
     "metadata": {},
     "output_type": "execute_result"
    }
   ],
   "source": [
    "one_to_one_df = merge_df[\n",
    "    # require all images to have exactly 1 ROI\n",
    "    # you could try relaxing this to allow multiple ROIs (though this may introduce noise to the classes)\n",
    "    (merge_df.num_roi == 1)\n",
    "    & (\n",
    "        # only allow left images from exams with 1 ROI and 0/1 left-side findings\n",
    "        ((merge_df.total_L_find <= 1) & (merge_df.ImageLateralityFinal == \"L\"))\n",
    "        # only allow right images from exams with 1 ROI and 0/1 right-side findings\n",
    "        | ((merge_df.total_R_find <= 1) & (merge_df.ImageLateralityFinal == \"R\"))\n",
    "    )\n",
    "]\n",
    "one_to_one_df[['exam_class', 'exam_outcome']].value_counts(dropna=False)"
   ]
  },
  {
   "cell_type": "markdown",
   "id": "456205f0-7c96-432a-9f95-627cf8903753",
   "metadata": {},
   "source": []
  },
  {
   "cell_type": "code",
   "execution_count": null,
   "id": "cbad261f-7a88-49cb-88ed-c68f49c1c7a9",
   "metadata": {},
   "outputs": [],
   "source": []
  }
 ],
 "metadata": {
  "kernelspec": {
   "display_name": "dsci",
   "language": "python",
   "name": "dsci"
  },
  "language_info": {
   "codemirror_mode": {
    "name": "ipython",
    "version": 3
   },
   "file_extension": ".py",
   "mimetype": "text/x-python",
   "name": "python",
   "nbconvert_exporter": "python",
   "pygments_lexer": "ipython3",
   "version": "3.11.10"
  }
 },
 "nbformat": 4,
 "nbformat_minor": 5
}
