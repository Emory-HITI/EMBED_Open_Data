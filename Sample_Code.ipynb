{
 "cells": [
  {
   "cell_type": "code",
   "execution_count": null,
   "metadata": {},
   "outputs": [],
   "source": []
  },
  {
   "cell_type": "markdown",
   "metadata": {},
   "source": [
    "### This notebook shows examples of how to manipulate the clinical data and metadata. Three tasks will be accomplished:\n",
    "#### 1 : Get the path of all BIRADS-1 and BIRADS-2 screening images\n",
    "#### 2a : Summarize image findings and append to clinical table\n",
    "#### 2b : Get all BIRADS-0 images, the cancer cases and show their ROIs\n"
   ]
  },
  {
   "cell_type": "code",
   "execution_count": 21,
   "metadata": {
    "tags": []
   },
   "outputs": [],
   "source": [
    "import pandas as pd\n",
    "import cv2\n",
    "import imageio\n",
    "import matplotlib\n",
    "import os\n",
    "import os.path\n",
    "from matplotlib import pyplot as plt\n",
    "from matplotlib.pyplot import figure\n",
    "import matplotlib.patches as patches\n",
    "from PIL import Image\n",
    "import numpy as np\n",
    "import random\n",
    "import ast\n",
    "import gc\n",
    "import time\n",
    "import re\n",
    "import random\n",
    "import pydicom\n",
    "from pydicom import dcmread\n",
    "from pydicom.data import get_testdata_file\n",
    "\n",
    "pd.set_option('display.max_rows', 500)\n",
    "pd.set_option('display.max_columns', 200)\n"
   ]
  },
  {
   "cell_type": "markdown",
   "metadata": {},
   "source": [
    "Preparing the datasets, and show datasets size:"
   ]
  },
  {
   "cell_type": "code",
   "execution_count": 5,
   "metadata": {},
   "outputs": [],
   "source": [
    "def stats(df): #the function displays dataframe size, countings of unique patients and unique exams\n",
    "    print('Dataframe size: ' + str(df.shape))\n",
    "    try:\n",
    "        print('# patients: ' + str(df.empi_anon.nunique()))\n",
    "    except:\n",
    "        print('# patients: ' + str(df.empi_anon_x.nunique()))\n",
    "    print('# exams: ' + str(df.acc_anon.nunique()))"
   ]
  },
  {
   "cell_type": "code",
   "execution_count": 6,
   "metadata": {},
   "outputs": [
    {
     "name": "stderr",
     "output_type": "stream",
     "text": [
      "/tmp/ipykernel_2921492/1755561827.py:5: DtypeWarning: Columns (32,35,37,52,53,57,58,59,60,61,63,85,88,89,97,115) have mixed types. Specify dtype option on import or set low_memory=False.\n",
      "  df_clinical = pd.read_csv(basepath + \"tables/EMBED_OpenData_clinical.csv\")\n"
     ]
    },
    {
     "name": "stdout",
     "output_type": "stream",
     "text": [
      "Dataframe size: (81776, 21)\n",
      "# patients: 23253\n",
      "# exams: 72770\n"
     ]
    },
    {
     "name": "stderr",
     "output_type": "stream",
     "text": [
      "/tmp/ipykernel_2921492/1755561827.py:14: DtypeWarning: Columns (115,116,117,118,119,120,130,132,133,134,135,136,138,143,147,148,149) have mixed types. Specify dtype option on import or set low_memory=False.\n",
      "  df_metadata = pd.read_csv(basepath + \"tables/EMBED_OpenData_metadata.csv\")\n"
     ]
    },
    {
     "name": "stdout",
     "output_type": "stream",
     "text": [
      "Dataframe size: (480323, 12)\n",
      "# patients: 23256\n",
      "# exams: 72770\n"
     ]
    }
   ],
   "source": [
    "#load in clinical and metadata dataframes\n",
    "# basepath = \"./\" #define the file directory\n",
    "basepath = \"/opt/localdata/Data/hmtrive/mammo/AWSOpenData/\" #define the file directory\n",
    "#Load clinical and filter for fields needed for the tasks we are showcasing in this notebook\n",
    "df_clinical = pd.read_csv(basepath + \"tables/EMBED_OpenData_clinical.csv\")\n",
    "\n",
    "df_clinical = df_clinical[['empi_anon','acc_anon','study_date_anon','asses', 'tissueden',\n",
    "                          'desc','side','path_severity','numfind','total_L_find','total_R_find',\n",
    "                          'massshape','massmargin','massdens','calcfind','calcdistri','calcnumber',\n",
    "                          'ETHNICITY_DESC','ETHNIC_GROUP_DESC','age_at_study','ETHNIC_GROUP_DESC']]\n",
    "stats(df_clinical)\n",
    "\n",
    "#Load metadata and filter for fields needed for the tasks we are showcasing in this notebook\n",
    "df_metadata = pd.read_csv(basepath + \"tables/EMBED_OpenData_metadata.csv\")\n",
    "df_metadata = df_metadata[['anon_dicom_path','empi_anon','acc_anon','study_date_anon',\n",
    "                            'StudyDescription','SeriesDescription','FinalImageType',\n",
    "                            'ImageLateralityFinal','ViewPosition','spot_mag','ROI_coords','num_roi']]\n",
    "\n",
    "stats(df_metadata)"
   ]
  },
  {
   "cell_type": "markdown",
   "metadata": {
    "tags": []
   },
   "source": [
    "### Task 1: Get the dicom file path of all BIRADS-1 and BIRADS-2 screening 2D images"
   ]
  },
  {
   "cell_type": "code",
   "execution_count": 7,
   "metadata": {},
   "outputs": [
    {
     "name": "stdout",
     "output_type": "stream",
     "text": [
      "Dataframe size: (58888, 21)\n",
      "# patients: 20460\n",
      "# exams: 55956\n"
     ]
    }
   ],
   "source": [
    "#filter for screening exams only\n",
    "df_clinical_screen = df_clinical.loc[df_clinical.desc.str.contains('screen',case=False)]\n",
    "stats(df_clinical_screen)\n"
   ]
  },
  {
   "cell_type": "code",
   "execution_count": 8,
   "metadata": {},
   "outputs": [
    {
     "name": "stdout",
     "output_type": "stream",
     "text": [
      "Dataframe size: (48003, 21)\n",
      "# patients: 17545\n",
      "# exams: 47476\n"
     ]
    }
   ],
   "source": [
    "# Filtering clinical data for birads 1 (negative) and 2 (benign) assessments. \n",
    "df_clinical_br12 = df_clinical_screen[(df_clinical_screen.asses == \"N\") | (df_clinical_screen.asses == \"B\")]\n",
    "# The column 'asses' indicates the BIRADS assessment of the exam. 'N' indicates negative/BIRADS-1, 'B' indicates benign/BIRADS-2\n",
    "stats(df_clinical_br12)"
   ]
  },
  {
   "cell_type": "code",
   "execution_count": null,
   "metadata": {},
   "outputs": [],
   "source": [
    "# Merging metadata and clinical data on exam ID (acc_anon). This will link the clinical data to the file list from metadata\n",
    "df_merge12 = pd.merge(df_metadata, df_clinical_br12, on=['acc_anon'])\n",
    "\n",
    "# The 'side' column in the clinical data represents the laterality of the finding in that row, and can be \n",
    "#L (left), R (right), B (bilateral), or NaN (when there is no finding). Therefore when merging clinical \n",
    "#and metadata, we must first match by exam ID and then match the laterality of the clinical finding (side) \n",
    "#to the laterality of the image (ImageLateralityFinal)/ Side \"B\" and \"NaN\" can be matched to \n",
    "#ImageLateralityFinal both \"L\" and \"R\"\n",
    "\n",
    "df_merge12 = df_merge12.loc[\n",
    "    (df_merge12.side == df_merge12.ImageLateralityFinal) \n",
    "    | (df_merge12.side == 'B') | (pd.isna(df_merge12.side))] \n",
    "\n",
    "stats(df_merge12)"
   ]
  },
  {
   "cell_type": "code",
   "execution_count": 10,
   "metadata": {},
   "outputs": [
    {
     "name": "stdout",
     "output_type": "stream",
     "text": [
      "Dataframe size: (226557, 32)\n",
      "# patients: 17547\n",
      "# exams: 47475\n"
     ]
    }
   ],
   "source": [
    "#filter for 2D images only\n",
    "df_merge12_2d = df_merge12.loc[df_merge12.FinalImageType=='2D']\n",
    "stats(df_merge12_2d)"
   ]
  },
  {
   "cell_type": "code",
   "execution_count": 13,
   "metadata": {},
   "outputs": [
    {
     "name": "stdout",
     "output_type": "stream",
     "text": [
      "225450\n"
     ]
    },
    {
     "data": {
      "text/plain": [
       "'./images/cohort_1/66685715/1.2.847.113975.3.62.1.55671517.20170931.1/1.2.844.113684.2750828166.1506503583.4742.253/1.2.826.0.1.3680043.8.498.12113965649920234975762962308241977870.dcm'"
      ]
     },
     "execution_count": 13,
     "metadata": {},
     "output_type": "execute_result"
    }
   ],
   "source": [
    "#generate list of all files dicom paths\n",
    "br12_img_list = list(df_merge12_2d.anon_dicom_path.unique())\n",
    "print(len(br12_img_list))\n",
    "br12_img_list[0]"
   ]
  },
  {
   "cell_type": "markdown",
   "metadata": {},
   "source": [
    "### Task 2a: Summarize image findings and append to clinical table"
   ]
  },
  {
   "cell_type": "code",
   "execution_count": 14,
   "metadata": {},
   "outputs": [
    {
     "name": "stdout",
     "output_type": "stream",
     "text": [
      "Dataframe size: (11425, 21)\n",
      "# patients: 8045\n",
      "# exams: 9291\n"
     ]
    }
   ],
   "source": [
    "# Filtering clinical data for birads 0 since these cases contain abnormalities with descriptors\n",
    "df_clinical_br0 = df_clinical.loc[df_clinical.asses == \"A\"]\n",
    "stats(df_clinical_br0)"
   ]
  },
  {
   "cell_type": "code",
   "execution_count": 22,
   "metadata": {},
   "outputs": [
    {
     "data": {
      "text/html": [
       "<div>\n",
       "<style scoped>\n",
       "    .dataframe tbody tr th:only-of-type {\n",
       "        vertical-align: middle;\n",
       "    }\n",
       "\n",
       "    .dataframe tbody tr th {\n",
       "        vertical-align: top;\n",
       "    }\n",
       "\n",
       "    .dataframe thead th {\n",
       "        text-align: right;\n",
       "    }\n",
       "</style>\n",
       "<table border=\"1\" class=\"dataframe\">\n",
       "  <thead>\n",
       "    <tr style=\"text-align: right;\">\n",
       "      <th></th>\n",
       "      <th>empi_anon</th>\n",
       "      <th>acc_anon</th>\n",
       "      <th>study_date_anon</th>\n",
       "      <th>asses</th>\n",
       "      <th>tissueden</th>\n",
       "      <th>desc</th>\n",
       "      <th>side</th>\n",
       "      <th>path_severity</th>\n",
       "      <th>numfind</th>\n",
       "      <th>total_L_find</th>\n",
       "      <th>total_R_find</th>\n",
       "      <th>massshape</th>\n",
       "      <th>massmargin</th>\n",
       "      <th>massdens</th>\n",
       "      <th>calcfind</th>\n",
       "      <th>calcdistri</th>\n",
       "      <th>calcnumber</th>\n",
       "      <th>ETHNICITY_DESC</th>\n",
       "      <th>ETHNIC_GROUP_DESC</th>\n",
       "      <th>age_at_study</th>\n",
       "      <th>ETHNIC_GROUP_DESC</th>\n",
       "      <th>mass</th>\n",
       "      <th>asymmetry</th>\n",
       "      <th>arch_distortion</th>\n",
       "      <th>calc</th>\n",
       "    </tr>\n",
       "  </thead>\n",
       "  <tbody>\n",
       "    <tr>\n",
       "      <th>2963</th>\n",
       "      <td>76880050</td>\n",
       "      <td>4932273561626049</td>\n",
       "      <td>2017-04-19</td>\n",
       "      <td>A</td>\n",
       "      <td>2.0</td>\n",
       "      <td>MG Screen Bilat w/Tomo/CAD Stnd Protocol</td>\n",
       "      <td>R</td>\n",
       "      <td>NaN</td>\n",
       "      <td>1</td>\n",
       "      <td>1.0</td>\n",
       "      <td>1.0</td>\n",
       "      <td>S</td>\n",
       "      <td>NaN</td>\n",
       "      <td>NaN</td>\n",
       "      <td>NaN</td>\n",
       "      <td>NaN</td>\n",
       "      <td>0</td>\n",
       "      <td>Caucasian or White</td>\n",
       "      <td>Non-Hispanic or Latino</td>\n",
       "      <td>52.031185</td>\n",
       "      <td>Non-Hispanic or Latino</td>\n",
       "      <td>0</td>\n",
       "      <td>1</td>\n",
       "      <td>0</td>\n",
       "      <td>0</td>\n",
       "    </tr>\n",
       "    <tr>\n",
       "      <th>7207</th>\n",
       "      <td>72624209</td>\n",
       "      <td>5538439865589975</td>\n",
       "      <td>2015-02-22</td>\n",
       "      <td>A</td>\n",
       "      <td>3.0</td>\n",
       "      <td>MG Screen Bilat w/Tomo/CAD Stnd Protocol</td>\n",
       "      <td>L</td>\n",
       "      <td>NaN</td>\n",
       "      <td>2</td>\n",
       "      <td>2.0</td>\n",
       "      <td>0.0</td>\n",
       "      <td>NaN</td>\n",
       "      <td>NaN</td>\n",
       "      <td>NaN</td>\n",
       "      <td>NaN</td>\n",
       "      <td>NaN</td>\n",
       "      <td>0</td>\n",
       "      <td>African American  or Black</td>\n",
       "      <td>Non-Hispanic or Latino</td>\n",
       "      <td>54.936104</td>\n",
       "      <td>Non-Hispanic or Latino</td>\n",
       "      <td>0</td>\n",
       "      <td>0</td>\n",
       "      <td>0</td>\n",
       "      <td>0</td>\n",
       "    </tr>\n",
       "    <tr>\n",
       "      <th>812</th>\n",
       "      <td>87483882</td>\n",
       "      <td>2893568225625407</td>\n",
       "      <td>2015-01-10</td>\n",
       "      <td>A</td>\n",
       "      <td>2.0</td>\n",
       "      <td>MG Screening Bilateral</td>\n",
       "      <td>R</td>\n",
       "      <td>NaN</td>\n",
       "      <td>1</td>\n",
       "      <td>0.0</td>\n",
       "      <td>2.0</td>\n",
       "      <td>X</td>\n",
       "      <td>I</td>\n",
       "      <td>=</td>\n",
       "      <td>NaN</td>\n",
       "      <td>NaN</td>\n",
       "      <td>0</td>\n",
       "      <td>Caucasian or White</td>\n",
       "      <td>Non-Hispanic or Latino</td>\n",
       "      <td>70.514795</td>\n",
       "      <td>Non-Hispanic or Latino</td>\n",
       "      <td>1</td>\n",
       "      <td>0</td>\n",
       "      <td>0</td>\n",
       "      <td>0</td>\n",
       "    </tr>\n",
       "  </tbody>\n",
       "</table>\n",
       "</div>"
      ],
      "text/plain": [
       "      empi_anon          acc_anon study_date_anon asses  tissueden  \\\n",
       "2963   76880050  4932273561626049      2017-04-19     A        2.0   \n",
       "7207   72624209  5538439865589975      2015-02-22     A        3.0   \n",
       "812    87483882  2893568225625407      2015-01-10     A        2.0   \n",
       "\n",
       "                                          desc side  path_severity  numfind  \\\n",
       "2963  MG Screen Bilat w/Tomo/CAD Stnd Protocol    R            NaN        1   \n",
       "7207  MG Screen Bilat w/Tomo/CAD Stnd Protocol    L            NaN        2   \n",
       "812                     MG Screening Bilateral    R            NaN        1   \n",
       "\n",
       "      total_L_find  total_R_find massshape massmargin massdens calcfind  \\\n",
       "2963           1.0           1.0         S        NaN      NaN      NaN   \n",
       "7207           2.0           0.0       NaN        NaN      NaN      NaN   \n",
       "812            0.0           2.0         X          I        =      NaN   \n",
       "\n",
       "     calcdistri  calcnumber              ETHNICITY_DESC  \\\n",
       "2963        NaN           0          Caucasian or White   \n",
       "7207        NaN           0  African American  or Black   \n",
       "812         NaN           0          Caucasian or White   \n",
       "\n",
       "           ETHNIC_GROUP_DESC  age_at_study       ETHNIC_GROUP_DESC  mass  \\\n",
       "2963  Non-Hispanic or Latino     52.031185  Non-Hispanic or Latino     0   \n",
       "7207  Non-Hispanic or Latino     54.936104  Non-Hispanic or Latino     0   \n",
       "812   Non-Hispanic or Latino     70.514795  Non-Hispanic or Latino     1   \n",
       "\n",
       "      asymmetry  arch_distortion  calc  \n",
       "2963          1                0     0  \n",
       "7207          0                0     0  \n",
       "812           0                0     0  "
      ]
     },
     "execution_count": 22,
     "metadata": {},
     "output_type": "execute_result"
    }
   ],
   "source": [
    "# Adding columns \"mass\", \"asymmetry\", \"arch_distortion\" and \"calc\" as a summary of imaging findings contained in the \n",
    "#other columns. This will be coded as 1 = present; 0 = absent\n",
    "\n",
    "df_findings_count = df_clinical_br0.copy()\n",
    "df_findings_count = df_findings_count.reset_index(drop=True)\n",
    "\n",
    "# Instantiate lists for the four finding type -  mass, asymmetry, architectural distortion and calcification\n",
    "# Default value set to 0. \n",
    "mass_list = [0]*df_findings_count.shape[0]\n",
    "asymmetry_list = [0]*df_findings_count.shape[0]\n",
    "arch_destortion_list = [0]*df_findings_count.shape[0]\n",
    "calc_list = [0]*df_findings_count.shape[0]\n",
    "\n",
    "\n",
    "# Architectural Distortion is defined as: 'massshape' ['Q', 'A']\n",
    "# Asymmetry is defined as: 'massshape' in ['T', 'B', 'S', 'F', 'V']\n",
    "# Mass is defined as: 'massshape' in ['G', 'R', 'O', 'X', 'N', 'Y', 'D', 'L']\n",
    "#       or 'massmargin' in ['D', 'U', 'M', 'I', 'S']\n",
    "#       or 'massdens' in ['+', '-', '=']\n",
    "# Calcification: defined as presence of any non-zero or non-null value in \"calcdistri\", \"calcfind\" or \"calcnumber\"\n",
    "\n",
    "#iterate through rows and assign values to the lists based on above rules\n",
    "for ind, row in df_findings_count.iterrows():\n",
    "    if (row['massshape'] in ['G', 'R', 'O', 'X', 'N', 'Y', 'D', 'L']) or (row['massmargin'] in ['D', 'U', 'M', 'I', 'S']) or (row['massdens'] in ['+', '-', '=']):\n",
    "        mass_list[ind] = 1\n",
    "        \n",
    "    if row['massshape'] in ['T', 'B', 'S', 'F', 'V']:\n",
    "        asymmetry_list[ind] = 1\n",
    "\n",
    "    if row['massshape']in ['Q', 'A']:\n",
    "        arch_destortion_list[ind] = 1\n",
    "        \n",
    "    if (row['calcdistri'] is not np.nan) or (row['calcfind'] is not np.nan) or (row['calcnumber'] != 0):\n",
    "        calc_list[ind] = 1        \n",
    "\n",
    "# Append the final image findings columns to the dataframe        \n",
    "df_findings_count['mass'] = mass_list\n",
    "df_findings_count['asymmetry'] = asymmetry_list\n",
    "df_findings_count['arch_distortion'] = arch_destortion_list\n",
    "df_findings_count['calc'] = calc_list\n",
    "\n",
    "df_findings_count.sample(3)"
   ]
  },
  {
   "cell_type": "code",
   "execution_count": 23,
   "metadata": {
    "scrolled": true
   },
   "outputs": [
    {
     "name": "stdout",
     "output_type": "stream",
     "text": [
      "Mass findings count\n",
      "0    9801\n",
      "1    1624\n",
      "Name: mass, dtype: int64 \n",
      "\n",
      "Asymmetry findings count\n",
      "1    5752\n",
      "0    5673\n",
      "Name: asymmetry, dtype: int64 \n",
      "\n",
      "Architectural distortion findings count\n",
      "0    10854\n",
      "1      571\n",
      "Name: arch_distortion, dtype: int64 \n",
      "\n",
      "Calcification findings count\n",
      "0    9492\n",
      "1    1933\n",
      "Name: calc, dtype: int64\n"
     ]
    }
   ],
   "source": [
    "print('Mass findings count')\n",
    "print(df_findings_count.mass.value_counts(),'\\n')\n",
    "print('Asymmetry findings count')\n",
    "print(df_findings_count.asymmetry.value_counts(),'\\n')\n",
    "print('Architectural distortion findings count')\n",
    "print(df_findings_count.arch_distortion.value_counts(),'\\n')\n",
    "print('Calcification findings count')\n",
    "print(df_findings_count.calc.value_counts())"
   ]
  },
  {
   "cell_type": "code",
   "execution_count": 24,
   "metadata": {},
   "outputs": [],
   "source": [
    "df_clinical_br0_addFindings = df_findings_count.copy()"
   ]
  },
  {
   "cell_type": "markdown",
   "metadata": {},
   "source": [
    "### Task 2b: Get all BIRADS-0 images, the cancer cases where there're ROIs, export as table"
   ]
  },
  {
   "cell_type": "code",
   "execution_count": 31,
   "metadata": {
    "scrolled": true
   },
   "outputs": [
    {
     "name": "stdout",
     "output_type": "stream",
     "text": [
      "Dataframe size: (77526, 36)\n",
      "# patients: 8045\n",
      "# exams: 9291\n",
      "Dataframe size: (42511, 36)\n",
      "# patients: 8042\n",
      "# exams: 9287\n"
     ]
    }
   ],
   "source": [
    "# Merging metadata and updated clinical data using the exam ID. This will merge ALL rows with a given acc_anon from\n",
    "# the clinical data with ALL rows containing files from that exam in the metadata\n",
    "df_merge0 = pd.merge(df_metadata, df_clinical_br0_addFindings, on=['acc_anon'])\n",
    "stats(df_merge0)\n",
    "\n",
    "# The 'side' column in the clinical data represents the laterality of the finding in that row, and can be L (left), \n",
    "# R (right), B (bilateral), or NaN (when there is no finding). Therefore when merging clinical and metadata, we must \n",
    "# first match by exam ID and then match the laterality of the clinical finding (side) to the laterality of the image \n",
    "# (ImageLateralityFinal). Side \"B\" and \"NaN\" can be matched to ImageLateralityFinal both \"L\" and \"R\"\n",
    "df_merge0 = df_merge0.loc[\n",
    "    (df_merge0.side == df_merge0.ImageLateralityFinal) \n",
    "    | (df_merge0.side == 'B') | (pd.isna(df_merge0.side))] \n",
    "\n",
    "df_merge0.drop_duplicates(inplace=True)\n",
    "stats(df_merge0) \n",
    "#Note the significant drop in number of rows after forcing the above laterality match while maintaining the number \n",
    "# of patients and exams. A few exams/patients are lost if there is no image to match the side of the finding, which\n",
    "# may be due to data entry error or data loss during extraction"
   ]
  },
  {
   "cell_type": "code",
   "execution_count": 34,
   "metadata": {},
   "outputs": [
    {
     "name": "stdout",
     "output_type": "stream",
     "text": [
      "Dataframe size: (42511, 36)\n",
      "# patients: 8042\n",
      "# exams: 9287\n"
     ]
    }
   ],
   "source": [
    "#Filter for 2D and C-view images only. Currently the EMBED AWS Open dataset does not contain any other image types,\n",
    "# but we retain this code for future use when it will contain DBT, MRI, and US\n",
    "df_merge0_2d_cview = df_merge0.loc[df_merge0.FinalImageType.isin(['2D','cview'])]\n",
    "stats(df_merge0_2d_cview)"
   ]
  },
  {
   "cell_type": "code",
   "execution_count": 38,
   "metadata": {},
   "outputs": [
    {
     "name": "stdout",
     "output_type": "stream",
     "text": [
      "Dataframe size: (1208, 36)\n",
      "# patients: 273\n",
      "# exams: 279\n"
     ]
    }
   ],
   "source": [
    "# Filtering cancer cases. When \"path_severity\" is 0 (invasive breast cancer) or 1 (in situ cancer). \n",
    "# path_severity 2-5 indicates benign and NaN means never biopsied.\n",
    "df_cancer = df_merge0_2d_cview[df_merge0_2d_cview['path_severity'].isin([0,1])]\n",
    "\n",
    "stats(df_cancer)\n",
    "#the resultant dataframe has one row per IMAGE containing cancer since clinical data and metadata are already merged.\n",
    "#Note that the number of patients and exams is lower since there are multiple images per patient"
   ]
  },
  {
   "cell_type": "code",
   "execution_count": 37,
   "metadata": {},
   "outputs": [],
   "source": [
    "#we will now get the list of ROIs for each of these images. ROIs are structured as a list of lists, and each image\n",
    "# can have 0 to multiple ROIs. We will therefore parse the ROI list to expand it such that each row will contain one ROI.\n",
    "# If an image has multiple ROIs, this will result in multiple rows for that image in the resultant dataframe\n",
    "\n",
    "#define function\n",
    "def separate_roi(df):\n",
    "    df_list = []\n",
    "    for ind, row in df.iterrows():\n",
    "        path = row['anon_dicom_path']\n",
    "        roi_num = [int(s) for s in re.findall(r'\\b\\d+\\b', row['ROI_coords'])]\n",
    "        if len(roi_num)==4:\n",
    "            df_list.append([path, row['ROI_coords'], row['ROI_coords']])\n",
    "        else:\n",
    "            count = 0\n",
    "            roi = []\n",
    "            for i in roi_num:\n",
    "                count += 1\n",
    "                roi.append(i)\n",
    "                if count%4 == 0:\n",
    "                    df_list.append([path, row['ROI_coords'], \"((\"+str(roi[0])+\", \"+str(roi[1])+\", \"+str(roi[2])+\", \"+str(roi[3])+\"),)\"])\n",
    "                    roi = []\n",
    "    df_roi_sep = pd.DataFrame(df_list)\n",
    "    df_roi_sep.columns = ['anon_dicom_path','ROI_coords','ROI_separated']\n",
    "    df_cp = df.copy()\n",
    "    df_cp = df_cp.merge(df_roi_sep, how='left', on=['anon_dicom_path','ROI_coords'])\n",
    "    return df_cp"
   ]
  },
  {
   "cell_type": "code",
   "execution_count": 40,
   "metadata": {},
   "outputs": [
    {
     "name": "stdout",
     "output_type": "stream",
     "text": [
      "Dataframe size: (271, 36)\n",
      "# patients: 83\n",
      "# exams: 83\n",
      "Dataframe size: (413, 37)\n",
      "# patients: 83\n",
      "# exams: 83\n"
     ]
    }
   ],
   "source": [
    "# To export ROIs, filter the ones with ROIs\n",
    "df_cancer_ROI = df_cancer.loc[df_cancer.ROI_coords!='()']\n",
    "stats(df_cancer_ROI)\n",
    "\n",
    "# Separate multiple ROIs into individual rows\n",
    "df_cancer_ROI = separate_roi(df_cancer_ROI)\n",
    "stats(df_cancer_ROI)\n",
    "\n",
    "# Export to csv\n",
    "df_cancer_ROI.to_csv(\"BR0CancerROIs.csv\")"
   ]
  },
  {
   "cell_type": "markdown",
   "metadata": {},
   "source": [
    "Showing an example ROI"
   ]
  },
  {
   "cell_type": "code",
   "execution_count": 41,
   "metadata": {
    "scrolled": true
   },
   "outputs": [
    {
     "data": {
      "text/plain": [
       "0                              ((1365, 272, 1610, 508),)\n",
       "1                              ((1951, 347, 2244, 626),)\n",
       "2                             ((2300, 776, 2689, 1149),)\n",
       "3                             ((2053, 809, 2295, 1054),)\n",
       "4                              ((1514, 704, 1681, 976),)\n",
       "5                              ((2181, 597, 2328, 844),)\n",
       "6                            ((2326, 1057, 2892, 1591),)\n",
       "7                             ((1328, 339, 1960, 1051),)\n",
       "8       ((992, 202, 1276, 647), (2098, 302, 2647, 1089))\n",
       "9       ((992, 202, 1276, 647), (2098, 302, 2647, 1089))\n",
       "10      ((1079, 654, 1358, 914), (2357, 269, 3101, 946))\n",
       "11      ((1079, 654, 1358, 914), (2357, 269, 3101, 946))\n",
       "12                           ((2202, 1399, 2455, 1775),)\n",
       "13                            ((1321, 839, 1473, 1064),)\n",
       "14                           ((2690, 1354, 3076, 1680),)\n",
       "15                            ((1614, 812, 1845, 1007),)\n",
       "16                               ((1057, 1, 1432, 225),)\n",
       "17          ((780, 1, 1057, 166), (1396, 15, 1558, 331))\n",
       "18          ((780, 1, 1057, 166), (1396, 15, 1558, 331))\n",
       "19       ((2103, 0, 2455, 350), (2489, 862, 2741, 1199))\n",
       "20       ((2103, 0, 2455, 350), (2489, 862, 2741, 1199))\n",
       "21                             ((2193, 312, 2430, 549),)\n",
       "22                             ((1619, 230, 1794, 405),)\n",
       "23                              ((1890, 20, 2110, 449),)\n",
       "24                             ((735, 789, 1137, 1174),)\n",
       "25                            ((996, 1069, 1539, 1590),)\n",
       "26                            ((1588, 812, 2113, 1354),)\n",
       "27                              ((952, 487, 1267, 812),)\n",
       "28                               ((1344, 0, 1741, 344),)\n",
       "29                                ((806, 0, 1044, 206),)\n",
       "30                                ((966, 1, 1134, 122),)\n",
       "31                               ((1611, 2, 1890, 203),)\n",
       "32                             ((1488, 123, 2058, 816),)\n",
       "33                              ((1751, 45, 2499, 974),)\n",
       "34                               ((713, 280, 859, 656),)\n",
       "35                            ((1721, 520, 1981, 1177),)\n",
       "36                            ((1187, 467, 1431, 1094),)\n",
       "37                             ((1033, 312, 1189, 706),)\n",
       "38        ((1099, 30, 1251, 180), (1129, 40, 1263, 146))\n",
       "39        ((1099, 30, 1251, 180), (1129, 40, 1263, 146))\n",
       "40        ((1488, 41, 1694, 244), (1528, 54, 1710, 198))\n",
       "41        ((1488, 41, 1694, 244), (1528, 54, 1710, 198))\n",
       "42      ((2447, 285, 2675, 724), (2447, 328, 2678, 718))\n",
       "43      ((2447, 285, 2675, 724), (2447, 328, 2678, 718))\n",
       "44                             ((1183, 290, 1443, 634),)\n",
       "45      ((1807, 210, 1975, 534), (1807, 242, 1977, 530))\n",
       "46      ((1807, 210, 1975, 534), (1807, 242, 1977, 530))\n",
       "47                             ((1602, 393, 1954, 859),)\n",
       "48                            ((2403, 479, 3142, 1366),)\n",
       "49                            ((1738, 500, 2638, 1349),)\n",
       "50                             ((1236, 147, 1547, 550),)\n",
       "51                             ((1420, 186, 1767, 679),)\n",
       "52                             ((1221, 634, 1511, 985),)\n",
       "53                            ((1653, 859, 2046, 1333),)\n",
       "54                             ((811, 1327, 971, 1503),)\n",
       "55                           ((1428, 1568, 1818, 1881),)\n",
       "56                           ((1351, 2211, 1618, 2505),)\n",
       "57                             ((857, 941, 1091, 1129),)\n",
       "58                            ((1444, 954, 2525, 1756),)\n",
       "59                            ((1583, 539, 2927, 1494),)\n",
       "60     ((1451, 785, 1789, 1157), (2650, 1154, 2973, 1...\n",
       "61     ((1451, 785, 1789, 1157), (2650, 1154, 2973, 1...\n",
       "62     ((1451, 785, 1789, 1157), (2650, 1154, 2973, 1...\n",
       "63     (([1224, 172, 1457, 559], [1798, 972, 2108, 13...\n",
       "64     (([1224, 172, 1457, 559], [1798, 972, 2108, 13...\n",
       "65     (([1224, 172, 1457, 559], [1798, 972, 2108, 13...\n",
       "66     (([1224, 172, 1457, 559], [1798, 972, 2108, 13...\n",
       "67                             ((1582, 441, 1905, 959),)\n",
       "68                             ((1582, 441, 1905, 959),)\n",
       "69                             ((1582, 441, 1905, 959),)\n",
       "70                             ((1582, 441, 1905, 959),)\n",
       "71                            ((1268, 355, 1689, 1031),)\n",
       "72                            ((1268, 355, 1689, 1031),)\n",
       "73                            ((1268, 355, 1689, 1031),)\n",
       "74                            ((1268, 355, 1689, 1031),)\n",
       "75                            ((1064, 712, 1599, 1304),)\n",
       "76                           ((1186, 1172, 1999, 1618),)\n",
       "77                             ((1510, 191, 1682, 439),)\n",
       "78                             ((1921, 459, 2205, 731),)\n",
       "79                             ((2517, 319, 2804, 732),)\n",
       "80                             ((1153, 275, 1323, 438),)\n",
       "81                           ((2098, 1021, 2306, 1271),)\n",
       "82                              ((945, 650, 1206, 870),)\n",
       "83          ((616, 265, 780, 439), (567, 390, 723, 522))\n",
       "84          ((616, 265, 780, 439), (567, 390, 723, 522))\n",
       "85                             ((1258, 612, 1383, 762),)\n",
       "86                             ((1027, 442, 1301, 732),)\n",
       "87                             ((829, 698, 1329, 1190),)\n",
       "88                             ((1705, 327, 2045, 675),)\n",
       "89                             ((2128, 442, 2476, 815),)\n",
       "90                            ((1909, 792, 2295, 1291),)\n",
       "91                           ((1514, 1227, 1779, 1643),)\n",
       "92                              ((908, 736, 1067, 985),)\n",
       "93                            ((987, 1246, 1179, 1469),)\n",
       "94                               ((592, 747, 707, 881),)\n",
       "95                           ((1694, 1572, 1992, 1824),)\n",
       "96                           ((1564, 1504, 1856, 1713),)\n",
       "97                           ((1155, 1111, 1371, 1265),)\n",
       "98                           ((1251, 1161, 1471, 1347),)\n",
       "99                           ((1152, 1024, 1474, 1385),)\n",
       "100                             ((963, 581, 1206, 903),)\n",
       "101                           ((1277, 610, 2662, 1968),)\n",
       "102                           ((1277, 610, 2662, 1968),)\n",
       "103                           ((1277, 610, 2662, 1968),)\n",
       "104                           ((1277, 610, 2662, 1968),)\n",
       "105                               ((0, 697, 677, 1341),)\n",
       "106                               ((0, 697, 677, 1341),)\n",
       "107                               ((0, 697, 677, 1341),)\n",
       "108                               ((0, 697, 677, 1341),)\n",
       "109                                ((0, 418, 406, 805),)\n",
       "110                                ((0, 418, 406, 805),)\n",
       "111                                ((0, 418, 406, 805),)\n",
       "112                                ((0, 418, 406, 805),)\n",
       "113                            ((767, 366, 1597, 1181),)\n",
       "114                            ((767, 366, 1597, 1181),)\n",
       "115                            ((767, 366, 1597, 1181),)\n",
       "116                            ((767, 366, 1597, 1181),)\n",
       "117     ((1537, 328, 2171, 995), (1583, 412, 2160, 976))\n",
       "118     ((1537, 328, 2171, 995), (1583, 412, 2160, 976))\n",
       "119    ((1748, 688, 2295, 1230), (1680, 702, 2260, 12...\n",
       "120    ((1748, 688, 2295, 1230), (1680, 702, 2260, 12...\n",
       "121     ((1291, 508, 1695, 909), (1241, 518, 1669, 937))\n",
       "122     ((1291, 508, 1695, 909), (1241, 518, 1669, 937))\n",
       "123     ((1135, 242, 1603, 735), (1169, 304, 1595, 721))\n",
       "124     ((1135, 242, 1603, 735), (1169, 304, 1595, 721))\n",
       "125                           ((2021, 300, 2515, 1187),)\n",
       "126                           ((1472, 173, 2096, 1014),)\n",
       "127                           ((1316, 404, 1926, 1286),)\n",
       "128                             ((526, 981, 757, 1295),)\n",
       "129                           ((877, 1634, 1261, 2158),)\n",
       "130                          ((1584, 2155, 1991, 2608),)\n",
       "131                           ((951, 1293, 1195, 1565),)\n",
       "132                               ((685, 12, 901, 282),)\n",
       "133                              ((928, 16, 1221, 382),)\n",
       "134                              ((1323, 3, 1626, 352),)\n",
       "135                               ((976, 2, 1201, 260),)\n",
       "136                          ((1321, 1250, 1602, 1489),)\n",
       "137                          ((2202, 2083, 2670, 2482),)\n",
       "138                          ((1660, 1329, 1900, 1556),)\n",
       "139                          ((2767, 2215, 3167, 2594),)\n",
       "140                           ((2216, 704, 2710, 1104),)\n",
       "141                           ((1613, 957, 2078, 1502),)\n",
       "142                           ((2258, 810, 2613, 1181),)\n",
       "143         ((724, 352, 898, 526), (713, 316, 933, 558))\n",
       "144         ((724, 352, 898, 526), (713, 316, 933, 558))\n",
       "145     ((1207, 587, 1498, 877), (1187, 527, 1554, 931))\n",
       "146     ((1207, 587, 1498, 877), (1187, 527, 1554, 931))\n",
       "147                             ((1527, 58, 1885, 664),)\n",
       "148                             ((1004, 63, 1298, 390),)\n",
       "149                             ((2068, 79, 2553, 900),)\n",
       "150                             ((1361, 85, 1758, 529),)\n",
       "151                           ((1213, 163, 1948, 1066),)\n",
       "152                              ((1185, 1, 1638, 183),)\n",
       "153                               ((608, 69, 897, 338),)\n",
       "154                              ((1604, 1, 2218, 248),)\n",
       "155                              ((824, 94, 1216, 458),)\n",
       "156                          ((825, 563, 1343, 890), ())\n",
       "157                          ((825, 563, 1343, 890), ())\n",
       "158                          ((825, 563, 1343, 890), ())\n",
       "159                          ((825, 563, 1343, 890), ())\n",
       "160                          ((825, 563, 1343, 890), ())\n",
       "161                          ((825, 563, 1343, 890), ())\n",
       "162                          ((825, 563, 1343, 890), ())\n",
       "163                          ((825, 563, 1343, 890), ())\n",
       "164                          ((825, 563, 1343, 890), ())\n",
       "165                          ((825, 563, 1343, 890), ())\n",
       "166                          ((825, 563, 1343, 890), ())\n",
       "167                          ((825, 563, 1343, 890), ())\n",
       "168                          ((825, 563, 1343, 890), ())\n",
       "169                          ((825, 563, 1343, 890), ())\n",
       "170                          ((825, 563, 1343, 890), ())\n",
       "171                          ((825, 563, 1343, 890), ())\n",
       "172                             ((870, 577, 1249, 987),)\n",
       "173                             ((870, 577, 1249, 987),)\n",
       "174                             ((870, 577, 1249, 987),)\n",
       "175                             ((870, 577, 1249, 987),)\n",
       "176                             ((870, 577, 1249, 987),)\n",
       "177                             ((870, 577, 1249, 987),)\n",
       "178                             ((870, 577, 1249, 987),)\n",
       "179                             ((870, 577, 1249, 987),)\n",
       "180                             ((870, 577, 1249, 987),)\n",
       "181                             ((870, 577, 1249, 987),)\n",
       "182                             ((870, 577, 1249, 987),)\n",
       "183                             ((870, 577, 1249, 987),)\n",
       "184                             ((870, 577, 1249, 987),)\n",
       "185                             ((870, 577, 1249, 987),)\n",
       "186                             ((870, 577, 1249, 987),)\n",
       "187                             ((870, 577, 1249, 987),)\n",
       "188                        ((1376, 939, 2238, 1484), ())\n",
       "189                        ((1376, 939, 2238, 1484), ())\n",
       "190                        ((1376, 939, 2238, 1484), ())\n",
       "191                        ((1376, 939, 2238, 1484), ())\n",
       "192                        ((1376, 939, 2238, 1484), ())\n",
       "193                        ((1376, 939, 2238, 1484), ())\n",
       "194                        ((1376, 939, 2238, 1484), ())\n",
       "195                        ((1376, 939, 2238, 1484), ())\n",
       "196                        ((1376, 939, 2238, 1484), ())\n",
       "197                        ((1376, 939, 2238, 1484), ())\n",
       "198                        ((1376, 939, 2238, 1484), ())\n",
       "199                        ((1376, 939, 2238, 1484), ())\n",
       "200                        ((1376, 939, 2238, 1484), ())\n",
       "201                        ((1376, 939, 2238, 1484), ())\n",
       "202                        ((1376, 939, 2238, 1484), ())\n",
       "203                        ((1376, 939, 2238, 1484), ())\n",
       "204                           ((1451, 962, 2082, 1646),)\n",
       "205                           ((1451, 962, 2082, 1646),)\n",
       "206                           ((1451, 962, 2082, 1646),)\n",
       "207                           ((1451, 962, 2082, 1646),)\n",
       "208                           ((1451, 962, 2082, 1646),)\n",
       "209                           ((1451, 962, 2082, 1646),)\n",
       "210                           ((1451, 962, 2082, 1646),)\n",
       "211                           ((1451, 962, 2082, 1646),)\n",
       "212                           ((1451, 962, 2082, 1646),)\n",
       "213                           ((1451, 962, 2082, 1646),)\n",
       "214                           ((1451, 962, 2082, 1646),)\n",
       "215                           ((1451, 962, 2082, 1646),)\n",
       "216                           ((1451, 962, 2082, 1646),)\n",
       "217                           ((1451, 962, 2082, 1646),)\n",
       "218                           ((1451, 962, 2082, 1646),)\n",
       "219                           ((1451, 962, 2082, 1646),)\n",
       "220                            ((1009, 228, 1235, 522),)\n",
       "221     ((1307, 288, 1501, 542), (1315, 270, 1491, 542))\n",
       "222     ((1307, 288, 1501, 542), (1315, 270, 1491, 542))\n",
       "223                            ((1382, 309, 1688, 604),)\n",
       "224     ((1770, 390, 2033, 734), (1781, 366, 2019, 734))\n",
       "225     ((1770, 390, 2033, 734), (1781, 366, 2019, 734))\n",
       "226                           ((1216, 622, 1581, 1072),)\n",
       "227                           ((1247, 854, 1434, 1144),)\n",
       "228                          ((1936, 1352, 2156, 1649),)\n",
       "229                            ((1221, 568, 1391, 771),)\n",
       "230                             ((979, 681, 1165, 877),)\n",
       "231                           ((2035, 947, 2318, 1286),)\n",
       "232                          ((1633, 1136, 1942, 1463),)\n",
       "233                            ((1021, 302, 1279, 650),)\n",
       "234                            ((1165, 134, 1411, 528),)\n",
       "235                            ((1941, 223, 2352, 881),)\n",
       "236                           ((1701, 504, 2131, 1084),)\n",
       "237    ((1406, 374, 1764, 879), (2204, 799, 2443, 1202))\n",
       "238    ((1406, 374, 1764, 879), (2204, 799, 2443, 1202))\n",
       "239      ((1026, 8, 1296, 377), (1239, 720, 1581, 1222))\n",
       "240      ((1026, 8, 1296, 377), (1239, 720, 1581, 1222))\n",
       "241                            ((710, 552, 1291, 1159),)\n",
       "242                             ((879, 522, 1049, 640),)\n",
       "243                            ((1629, 498, 1781, 723),)\n",
       "244                            ((1190, 707, 1420, 867),)\n",
       "245                            ((2206, 675, 2412, 978),)\n",
       "246                            ((2209, 136, 2507, 617),)\n",
       "247       ((882, 392, 1168, 711), (840, 439, 1144, 637))\n",
       "248       ((882, 392, 1168, 711), (840, 439, 1144, 637))\n",
       "249                            ((1055, 181, 1806, 588),)\n",
       "250                            ((1430, 245, 2446, 797),)\n",
       "251     ((1195, 531, 1581, 963), (1138, 595, 1549, 863))\n",
       "252     ((1195, 531, 1581, 963), (1138, 595, 1549, 863))\n",
       "253                            ((1469, 232, 1897, 686),)\n",
       "254                            ((1499, 258, 1853, 801),)\n",
       "255                           ((2498, 430, 3089, 1334),)\n",
       "256                           ((2448, 387, 3162, 1144),)\n",
       "257                             ((1987, 15, 2507, 245),)\n",
       "258                              ((1947, 0, 2366, 336),)\n",
       "259                              ((2487, 3, 2889, 325),)\n",
       "260                               ((630, 58, 915, 298),)\n",
       "261                             ((813, 212, 1057, 478),)\n",
       "262                             ((1051, 97, 1524, 497),)\n",
       "263                            ((1354, 354, 1761, 797),)\n",
       "264                               ((974, 3, 1520, 202),)\n",
       "265                            ((1233, 384, 1870, 884),)\n",
       "266                            ((1673, 173, 2454, 676),)\n",
       "267                           ((1586, 671, 2080, 1234),)\n",
       "268                             ((999, 538, 1091, 622),)\n",
       "269                            ((1307, 434, 1383, 524),)\n",
       "270                           ((1664, 897, 1818, 1037),)\n",
       "271                            ((2178, 724, 2305, 874),)\n",
       "272                          ((1601, 1064, 2044, 1696),)\n",
       "273                           ((1091, 607, 1588, 1502),)\n",
       "274                               ((524, 2, 1443, 699),)\n",
       "275                              ((575, 8, 1529, 1037),)\n",
       "276                               ((710, 3, 1954, 947),)\n",
       "277                             ((779, 11, 2071, 1405),)\n",
       "278                              ((1263, 0, 1491, 158),)\n",
       "279                               ((658, 56, 956, 310),)\n",
       "280                              ((1710, 0, 2019, 214),)\n",
       "281                              ((891, 76, 1295, 420),)\n",
       "282                           ((1248, 676, 1651, 1152),)\n",
       "283                            ((1861, 104, 2751, 928),)\n",
       "284                            ((2025, 20, 2926, 1316),)\n",
       "285                            ((2362, 364, 2695, 746),)\n",
       "286                              ((685, 172, 949, 480),)\n",
       "287                              ((719, 546, 945, 785),)\n",
       "288                             ((927, 233, 1285, 650),)\n",
       "289                            ((973, 740, 1279, 1062),)\n",
       "290       ((859, 470, 1063, 729), (806, 472, 1064, 754))\n",
       "291       ((859, 470, 1063, 729), (806, 472, 1064, 754))\n",
       "292     ((1195, 496, 1439, 717), (1188, 474, 1393, 774))\n",
       "293     ((1195, 496, 1439, 717), (1188, 474, 1393, 774))\n",
       "294    ((1618, 672, 1949, 970), (1609, 642, 1886, 1049))\n",
       "295    ((1618, 672, 1949, 970), (1609, 642, 1886, 1049))\n",
       "296    ((1163, 637, 1439, 986), (1092, 639, 1441, 1021))\n",
       "297    ((1163, 637, 1439, 986), (1092, 639, 1441, 1021))\n",
       "298                           ((1713, 999, 2516, 1798),)\n",
       "299                          ((1829, 1127, 2628, 1814),)\n",
       "300                            ((1074, 425, 1307, 708),)\n",
       "301                             ((872, 491, 1246, 767),)\n",
       "302                           ((1791, 709, 2178, 1181),)\n",
       "303                           ((1454, 819, 2077, 1279),)\n",
       "304                            ((2301, 605, 2535, 832),)\n",
       "305    ((722, 69, 1073, 520), (1298, 5, 1590, 171), (...\n",
       "306    ((722, 69, 1073, 520), (1298, 5, 1590, 171), (...\n",
       "307    ((722, 69, 1073, 520), (1298, 5, 1590, 171), (...\n",
       "308    ((1041, 157, 1497, 458), (1373, 201, 1985, 949...\n",
       "309    ((1041, 157, 1497, 458), (1373, 201, 1985, 949...\n",
       "310    ((1041, 157, 1497, 458), (1373, 201, 1985, 949...\n",
       "311    ((1914, 339, 2318, 759), (1631, 807, 2460, 163...\n",
       "312    ((1914, 339, 2318, 759), (1631, 807, 2460, 163...\n",
       "313    ((1914, 339, 2318, 759), (1631, 807, 2460, 163...\n",
       "314    ((1914, 339, 2318, 759), (1631, 807, 2460, 163...\n",
       "315    ((1914, 339, 2318, 759), (1631, 807, 2460, 163...\n",
       "316    ((1914, 339, 2318, 759), (1631, 807, 2460, 163...\n",
       "317    ((1914, 339, 2318, 759), (1631, 807, 2460, 163...\n",
       "318    ((1914, 339, 2318, 759), (1631, 807, 2460, 163...\n",
       "319    ((1914, 339, 2318, 759), (1631, 807, 2460, 163...\n",
       "320    ((1914, 339, 2318, 759), (1631, 807, 2460, 163...\n",
       "321    ((1914, 339, 2318, 759), (1631, 807, 2460, 163...\n",
       "322    ((1914, 339, 2318, 759), (1631, 807, 2460, 163...\n",
       "323    ((1888, 380, 2216, 757), (1259, 257, 1966, 1924))\n",
       "324    ((1888, 380, 2216, 757), (1259, 257, 1966, 1924))\n",
       "325    ((1888, 380, 2216, 757), (1259, 257, 1966, 1924))\n",
       "326    ((1888, 380, 2216, 757), (1259, 257, 1966, 1924))\n",
       "327    ((1888, 380, 2216, 757), (1259, 257, 1966, 1924))\n",
       "328    ((1888, 380, 2216, 757), (1259, 257, 1966, 1924))\n",
       "329    ((1888, 380, 2216, 757), (1259, 257, 1966, 1924))\n",
       "330    ((1888, 380, 2216, 757), (1259, 257, 1966, 1924))\n",
       "331                            ((2286, 355, 2736, 814),)\n",
       "332                            ((2286, 355, 2736, 814),)\n",
       "333                            ((2286, 355, 2736, 814),)\n",
       "334                            ((2286, 355, 2736, 814),)\n",
       "335                             ((863, 168, 1045, 372),)\n",
       "336                            ((1168, 228, 1415, 504),)\n",
       "337                            ((1047, 248, 1273, 440),)\n",
       "338                            ((1417, 336, 1724, 596),)\n",
       "339                            ((1504, 168, 1705, 429),)\n",
       "340       ((1011, 58, 1167, 235), (1117, 37, 1234, 192))\n",
       "341       ((1011, 58, 1167, 235), (1117, 37, 1234, 192))\n",
       "342                             ((1686, 97, 1946, 392),)\n",
       "343                             ((1863, 62, 2058, 320),)\n",
       "344                            ((2508, 280, 2843, 715),)\n",
       "345                           ((1885, 724, 2382, 1148),)\n",
       "346                          ((2049, 1126, 2510, 1693),)\n",
       "347                           ((2776, 895, 3265, 1387),)\n",
       "348                            ((1913, 565, 2223, 877),)\n",
       "349                           ((1282, 802, 1574, 1054),)\n",
       "350                          ((1511, 1009, 1959, 1334),)\n",
       "351                             ((573, 315, 1114, 897),)\n",
       "352                            ((603, 445, 1002, 1012),)\n",
       "353                           ((1006, 742, 1671, 1688),)\n",
       "354                            ((956, 525, 1856, 1496),)\n",
       "355                           ((1710, 930, 2178, 1258),)\n",
       "356                           ((2399, 924, 2724, 1389),)\n",
       "357    ((789, 443, 965, 640), (405, 144, 780, 469), (...\n",
       "358    ((789, 443, 965, 640), (405, 144, 780, 469), (...\n",
       "359    ((789, 443, 965, 640), (405, 144, 780, 469), (...\n",
       "360    ((789, 443, 965, 640), (405, 144, 780, 469), (...\n",
       "361    ((789, 443, 965, 640), (405, 144, 780, 469), (...\n",
       "362    ((789, 443, 965, 640), (405, 144, 780, 469), (...\n",
       "363    ((789, 443, 965, 640), (405, 144, 780, 469), (...\n",
       "364    ((789, 443, 965, 640), (405, 144, 780, 469), (...\n",
       "365    ((789, 443, 965, 640), (405, 144, 780, 469), (...\n",
       "366    ((789, 443, 965, 640), (405, 144, 780, 469), (...\n",
       "367    ((789, 443, 965, 640), (405, 144, 780, 469), (...\n",
       "368    ((789, 443, 965, 640), (405, 144, 780, 469), (...\n",
       "369                            ((539, 329, 1194, 1079),)\n",
       "370                            ((539, 329, 1194, 1079),)\n",
       "371                            ((539, 329, 1194, 1079),)\n",
       "372                            ((539, 329, 1194, 1079),)\n",
       "373    ((1316, 739, 1610, 1067), (676, 240, 1301, 782...\n",
       "374    ((1316, 739, 1610, 1067), (676, 240, 1301, 782...\n",
       "375    ((1316, 739, 1610, 1067), (676, 240, 1301, 782...\n",
       "376    ((1316, 739, 1610, 1067), (676, 240, 1301, 782...\n",
       "377    ((1316, 739, 1610, 1067), (676, 240, 1301, 782...\n",
       "378    ((1316, 739, 1610, 1067), (676, 240, 1301, 782...\n",
       "379    ((1316, 739, 1610, 1067), (676, 240, 1301, 782...\n",
       "380    ((1316, 739, 1610, 1067), (676, 240, 1301, 782...\n",
       "381    ((1316, 739, 1610, 1067), (676, 240, 1301, 782...\n",
       "382    ((1316, 739, 1610, 1067), (676, 240, 1301, 782...\n",
       "383    ((1316, 739, 1610, 1067), (676, 240, 1301, 782...\n",
       "384    ((1316, 739, 1610, 1067), (676, 240, 1301, 782...\n",
       "385                            ((899, 549, 1990, 1800),)\n",
       "386                            ((899, 549, 1990, 1800),)\n",
       "387                            ((899, 549, 1990, 1800),)\n",
       "388                            ((899, 549, 1990, 1800),)\n",
       "389     ((737, 917, 1061, 1257), (719, 879, 1089, 1251))\n",
       "390     ((737, 917, 1061, 1257), (719, 879, 1089, 1251))\n",
       "391    ((1235, 999, 1575, 1347), (1241, 1001, 1563, 1...\n",
       "392    ((1235, 999, 1575, 1347), (1241, 1001, 1563, 1...\n",
       "393    ((997, 1241, 1436, 1702), (973, 1190, 1474, 16...\n",
       "394    ((997, 1241, 1436, 1702), (973, 1190, 1474, 16...\n",
       "395    ((1672, 1352, 2133, 1824), (1680, 1355, 2117, ...\n",
       "396    ((1672, 1352, 2133, 1824), (1680, 1355, 2117, ...\n",
       "397                            ((1474, 191, 1754, 553),)\n",
       "398                             ((898, 545, 1222, 904),)\n",
       "399                            ((1057, 543, 1335, 736),)\n",
       "400                            ((1003, 664, 1233, 978),)\n",
       "401                          ((1673, 1108, 2055, 1631),)\n",
       "402                           ((1763, 906, 2225, 1228),)\n",
       "403                            ((1617, 412, 1869, 656),)\n",
       "404                            ((1533, 418, 1749, 620),)\n",
       "405                            ((2190, 558, 2531, 889),)\n",
       "406                            ((2076, 566, 2369, 840),)\n",
       "407                            ((1321, 572, 1547, 840),)\n",
       "408     ((1649, 618, 1781, 820), (1228, 486, 1371, 682))\n",
       "409     ((1649, 618, 1781, 820), (1228, 486, 1371, 682))\n",
       "410                           ((2048, 811, 2285, 1137),)\n",
       "411                          ((2748, 1031, 2969, 1368),)\n",
       "412                           ((2201, 954, 2578, 1401),)\n",
       "Name: ROI_coords, dtype: object"
      ]
     },
     "execution_count": 41,
     "metadata": {},
     "output_type": "execute_result"
    }
   ],
   "source": [
    "df_cancer_ROI.ROI_coords"
   ]
  },
  {
   "cell_type": "code",
   "execution_count": 42,
   "metadata": {},
   "outputs": [
    {
     "data": {
      "text/plain": [
       "'((1951, 347, 2244, 626),)'"
      ]
     },
     "execution_count": 42,
     "metadata": {},
     "output_type": "execute_result"
    }
   ],
   "source": [
    "sample_file_name = df_cancer_ROI.anon_dicom_path[1]\n",
    "sample_file_ROI = df_cancer_ROI.ROI_coords[1]\n",
    "sample_file_ROI"
   ]
  },
  {
   "cell_type": "code",
   "execution_count": 43,
   "metadata": {
    "scrolled": true
   },
   "outputs": [
    {
     "data": {
      "text/plain": [
       "'./images/cohort_1/18939478/1.2.849.113974.3.61.1.52711867.20160329.1091560/1.2.848.113681.2230564627.935.3636186671.120.1/1.2.826.0.1.3680043.8.498.12257306895206838611171994903114978464.dcm'"
      ]
     },
     "execution_count": 43,
     "metadata": {},
     "output_type": "execute_result"
    }
   ],
   "source": [
    "sample_file_name"
   ]
  },
  {
   "cell_type": "code",
   "execution_count": 45,
   "metadata": {},
   "outputs": [
    {
     "name": "stdout",
     "output_type": "stream",
     "text": [
      "Defaulting to user installation because normal site-packages is not writeable\n",
      "Collecting pylibjpeg\n",
      "  Downloading pylibjpeg-1.4.0-py3-none-any.whl (28 kB)\n",
      "Requirement already satisfied: numpy in /home/hmtrive/.local/lib/python3.9/site-packages (from pylibjpeg) (1.23.3)\n",
      "Installing collected packages: pylibjpeg\n",
      "Successfully installed pylibjpeg-1.4.0\n"
     ]
    }
   ],
   "source": [
    "!pip install pylibjpeg"
   ]
  },
  {
   "cell_type": "code",
   "execution_count": 46,
   "metadata": {
    "tags": []
   },
   "outputs": [
    {
     "ename": "FileNotFoundError",
     "evalue": "[Errno 2] No such file or directory: './images/cohort_1/18939478/1.2.849.113974.3.61.1.52711867.20160329.1091560/1.2.848.113681.2230564627.935.3636186671.120.1/1.2.826.0.1.3680043.8.498.12257306895206838611171994903114978464.dcm'",
     "output_type": "error",
     "traceback": [
      "\u001b[0;31m---------------------------------------------------------------------------\u001b[0m",
      "\u001b[0;31mFileNotFoundError\u001b[0m                         Traceback (most recent call last)",
      "Cell \u001b[0;32mIn [46], line 5\u001b[0m\n\u001b[1;32m      2\u001b[0m \u001b[38;5;28;01mimport\u001b[39;00m \u001b[38;5;21;01mpylibjpeg\u001b[39;00m\n\u001b[1;32m      4\u001b[0m \u001b[38;5;66;03m# sample_file_name = '1.2.826.0.1.3680043.8.498.12257306895206838611171994903114978464.dcm'\u001b[39;00m\n\u001b[0;32m----> 5\u001b[0m ds \u001b[38;5;241m=\u001b[39m \u001b[43mpydicom\u001b[49m\u001b[38;5;241;43m.\u001b[39;49m\u001b[43mdcmread\u001b[49m\u001b[43m(\u001b[49m\u001b[43msample_file_name\u001b[49m\u001b[43m)\u001b[49m\n\u001b[1;32m      6\u001b[0m plt\u001b[38;5;241m.\u001b[39mimshow(ds\u001b[38;5;241m.\u001b[39mpixel_array, cmap\u001b[38;5;241m=\u001b[39mplt\u001b[38;5;241m.\u001b[39mcm\u001b[38;5;241m.\u001b[39mbone)\n",
      "File \u001b[0;32m~/.local/lib/python3.9/site-packages/pydicom/filereader.py:993\u001b[0m, in \u001b[0;36mdcmread\u001b[0;34m(fp, defer_size, stop_before_pixels, force, specific_tags)\u001b[0m\n\u001b[1;32m    991\u001b[0m     caller_owns_file \u001b[38;5;241m=\u001b[39m \u001b[38;5;28;01mFalse\u001b[39;00m\n\u001b[1;32m    992\u001b[0m     logger\u001b[38;5;241m.\u001b[39mdebug(\u001b[38;5;124m\"\u001b[39m\u001b[38;5;124mReading file \u001b[39m\u001b[38;5;124m'\u001b[39m\u001b[38;5;132;01m{0}\u001b[39;00m\u001b[38;5;124m'\u001b[39m\u001b[38;5;124m\"\u001b[39m\u001b[38;5;241m.\u001b[39mformat(fp))\n\u001b[0;32m--> 993\u001b[0m     fp \u001b[38;5;241m=\u001b[39m \u001b[38;5;28;43mopen\u001b[39;49m\u001b[43m(\u001b[49m\u001b[43mfp\u001b[49m\u001b[43m,\u001b[49m\u001b[43m \u001b[49m\u001b[38;5;124;43m'\u001b[39;49m\u001b[38;5;124;43mrb\u001b[39;49m\u001b[38;5;124;43m'\u001b[39;49m\u001b[43m)\u001b[49m\n\u001b[1;32m    994\u001b[0m \u001b[38;5;28;01melif\u001b[39;00m fp \u001b[38;5;129;01mis\u001b[39;00m \u001b[38;5;28;01mNone\u001b[39;00m \u001b[38;5;129;01mor\u001b[39;00m \u001b[38;5;129;01mnot\u001b[39;00m \u001b[38;5;28mhasattr\u001b[39m(fp, \u001b[38;5;124m\"\u001b[39m\u001b[38;5;124mread\u001b[39m\u001b[38;5;124m\"\u001b[39m) \u001b[38;5;129;01mor\u001b[39;00m \u001b[38;5;129;01mnot\u001b[39;00m \u001b[38;5;28mhasattr\u001b[39m(fp, \u001b[38;5;124m\"\u001b[39m\u001b[38;5;124mseek\u001b[39m\u001b[38;5;124m\"\u001b[39m):\n\u001b[1;32m    995\u001b[0m     \u001b[38;5;28;01mraise\u001b[39;00m \u001b[38;5;167;01mTypeError\u001b[39;00m(\u001b[38;5;124m\"\u001b[39m\u001b[38;5;124mdcmread: Expected a file path or a file-like, \u001b[39m\u001b[38;5;124m\"\u001b[39m\n\u001b[1;32m    996\u001b[0m                     \u001b[38;5;124m\"\u001b[39m\u001b[38;5;124mbut got \u001b[39m\u001b[38;5;124m\"\u001b[39m \u001b[38;5;241m+\u001b[39m \u001b[38;5;28mtype\u001b[39m(fp)\u001b[38;5;241m.\u001b[39m\u001b[38;5;18m__name__\u001b[39m)\n",
      "\u001b[0;31mFileNotFoundError\u001b[0m: [Errno 2] No such file or directory: './images/cohort_1/18939478/1.2.849.113974.3.61.1.52711867.20160329.1091560/1.2.848.113681.2230564627.935.3636186671.120.1/1.2.826.0.1.3680043.8.498.12257306895206838611171994903114978464.dcm'"
     ]
    }
   ],
   "source": [
    "# For sample instance, the dicom file was stored in current folder for convenience\n",
    "import pylibjpeg\n",
    "\n",
    "# sample_file_name = '1.2.826.0.1.3680043.8.498.12257306895206838611171994903114978464.dcm'\n",
    "ds = pydicom.dcmread(sample_file_name)\n",
    "plt.imshow(ds.pixel_array, cmap=plt.cm.bone) "
   ]
  },
  {
   "cell_type": "code",
   "execution_count": 47,
   "metadata": {},
   "outputs": [
    {
     "data": {
      "text/plain": [
       "'/opt/localdata/Data/hmtrive/mammo/AWSOpenData/notebooks'"
      ]
     },
     "execution_count": 47,
     "metadata": {},
     "output_type": "execute_result"
    }
   ],
   "source": [
    "pwd"
   ]
  },
  {
   "cell_type": "markdown",
   "metadata": {},
   "source": [
    "<br><br><br><br>End of notebook <br><br><br><br>"
   ]
  }
 ],
 "metadata": {
  "kernelspec": {
   "display_name": "Python 3 (ipykernel)",
   "language": "python",
   "name": "python3"
  },
  "language_info": {
   "codemirror_mode": {
    "name": "ipython",
    "version": 3
   },
   "file_extension": ".py",
   "mimetype": "text/x-python",
   "name": "python",
   "nbconvert_exporter": "python",
   "pygments_lexer": "ipython3",
   "version": "3.9.7"
  }
 },
 "nbformat": 4,
 "nbformat_minor": 4
}
