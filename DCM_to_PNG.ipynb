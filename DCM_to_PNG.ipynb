{
 "cells": [
  {
   "cell_type": "markdown",
   "id": "390ef298",
   "metadata": {},
   "source": [
    "# Converting a List of DICOMs to PNG"
   ]
  },
  {
   "cell_type": "code",
   "execution_count": 1,
   "id": "8f9f9921",
   "metadata": {},
   "outputs": [],
   "source": [
    "import pydicom\n",
    "import numpy as np\n",
    "import pandas as pd\n",
    "import png"
   ]
  },
  {
   "cell_type": "code",
   "execution_count": null,
   "id": "33c007a2",
   "metadata": {},
   "outputs": [],
   "source": []
  },
  {
   "cell_type": "code",
   "execution_count": 8,
   "id": "7eb4de29",
   "metadata": {},
   "outputs": [],
   "source": [
    "# Get DICOM image metadata\n",
    "class DCM_Tags():\n",
    "    def __init__(self, img_dcm):\n",
    "        try:\n",
    "            self.laterality = img_dcm.ImageLaterality\n",
    "        except AttributeError:\n",
    "            self.laterality = np.nan\n",
    "            \n",
    "        try:\n",
    "            self.view = img_dcm.ViewPosition\n",
    "        except AttributeError:\n",
    "            self.view = np.nan\n",
    "            \n",
    "        try:\n",
    "            self.orientation = img_dcm.PatientOrientation\n",
    "        except AttributeError:\n",
    "            self.orientation = np.nan\n",
    "\n",
    "# Check whether DICOM should be flipped\n",
    "def check_dcm(imgdcm):\n",
    "    # Get DICOM metadata\n",
    "    tags = DCM_Tags(imgdcm)\n",
    "    \n",
    "    # If image orientation tag is defined\n",
    "    if ~pd.isnull(tags.orientation):\n",
    "        # CC view\n",
    "        if tags.view == 'CC':\n",
    "            if tags.orientation[0] == 'P':\n",
    "                flipHorz = True\n",
    "            else:\n",
    "                flipHorz = False\n",
    "            \n",
    "            if (tags.laterality == 'L') & (tags.orientation[1] == 'L'):\n",
    "                flipVert = True\n",
    "            elif (tags.laterality == 'R') & (tags.orientation[1] == 'R'):\n",
    "                flipVert = True\n",
    "            else:\n",
    "                flipVert = False\n",
    "        \n",
    "        # MLO or ML views\n",
    "        elif (tags.view == 'MLO') | (tags.view == 'ML'):\n",
    "            if tags.orientation[0] == 'P':\n",
    "                flipHorz = True\n",
    "            else:\n",
    "                flipHorz = False\n",
    "            \n",
    "            if (tags.laterality == 'L') & ((tags.orientation[1] == 'H') | (tags.orientation[1] == 'HL')):\n",
    "                flipVert = True\n",
    "            elif (tags.laterality == 'R') & ((tags.orientation[1] == 'H') | (tags.orientation[1] == 'HR')):\n",
    "                flipVert = True\n",
    "            else:\n",
    "                flipVert = False\n",
    "        \n",
    "        # Unrecognized view\n",
    "        else:\n",
    "            flipHorz = False\n",
    "            flipVert = False\n",
    "            \n",
    "    # If image orientation tag is undefined\n",
    "    else:\n",
    "        # Flip RCC, RML, and RMLO images\n",
    "        if (tags.laterality == 'R') & ((tags.view == 'CC') | (tags.view == 'ML') | (tags.view == 'MLO')):\n",
    "            flipHorz = True\n",
    "            flipVert = False\n",
    "        else:\n",
    "            flipHorz = False\n",
    "            flipVert = False\n",
    "            \n",
    "    return flipHorz, flipVert\n",
    "\n",
    "# Save DICOM pixel array as PNG\n",
    "def save_dcm_image_as_png(image, png_filename, bitdepth=12):\n",
    "    with open(png_filename, 'wb') as f:\n",
    "        writer = png.Writer(height=image.shape[0], \n",
    "                            width=image.shape[1], \n",
    "                            bitdepth=bitdepth, \n",
    "                            greyscale=True)\n",
    "        writer.write(f, image.tolist())"
   ]
  },
  {
   "cell_type": "code",
   "execution_count": 10,
   "id": "79563299",
   "metadata": {},
   "outputs": [],
   "source": [
    "# Convert list of DICOMs to PNGs\n",
    "def process_dcm_list(dcm_list, save_path):\n",
    "    for i, dcm_path in enumerate(dcm_list):\n",
    "        print(f\"Processing DICOM #{i}...\")\n",
    "        \n",
    "        # Load DICOM\n",
    "        dcm = pydicom.dcmread(dcm_path)\n",
    "        img = dcm.pixel_array\n",
    "        \n",
    "        # Check if a horizontal flip is necessary\n",
    "        horz, _ = check_dcm(dcm)\n",
    "        if horz:\n",
    "            # Flip img horizontally\n",
    "            img = np.fliplr(img)\n",
    "        \n",
    "        # Get new file name\n",
    "        split_fn = dcm_path[:-4].split('/')\n",
    "        new_fn = f\"{split_fn[-1]}_conv.png\"\n",
    "        \n",
    "        # Save PNG\n",
    "        png_path = save_path + new_fn\n",
    "        save_dcm_image_as_png(img, png_path)"
   ]
  },
  {
   "cell_type": "code",
   "execution_count": null,
   "id": "29bc2f2c",
   "metadata": {},
   "outputs": [],
   "source": []
  },
  {
   "cell_type": "code",
   "execution_count": 11,
   "id": "06c2d5b1",
   "metadata": {},
   "outputs": [
    {
     "name": "stdout",
     "output_type": "stream",
     "text": [
      "Processing DICOM #0...\n",
      "Processing DICOM #1...\n",
      "Processing DICOM #2...\n",
      "Processing DICOM #3...\n",
      "Processing DICOM #4...\n",
      "Processing DICOM #5...\n",
      "Processing DICOM #6...\n",
      "Processing DICOM #7...\n",
      "Processing DICOM #8...\n",
      "Processing DICOM #9...\n"
     ]
    }
   ],
   "source": [
    "# Provide a list of DICOM paths and a target directory\n",
    "dcm_list = []\n",
    "save_path = \"/PATH/TO/SAVE/DIR/\"\n",
    "\n",
    "# Convert DICOMs\n",
    "process_dcm_list(dcm_list, save_path)"
   ]
  },
  {
   "cell_type": "code",
   "execution_count": null,
   "id": "025505a7",
   "metadata": {},
   "outputs": [],
   "source": []
  }
 ],
 "metadata": {
  "kernelspec": {
   "display_name": "Python 3 (ipykernel)",
   "language": "python",
   "name": "python3"
  },
  "language_info": {
   "codemirror_mode": {
    "name": "ipython",
    "version": 3
   },
   "file_extension": ".py",
   "mimetype": "text/x-python",
   "name": "python",
   "nbconvert_exporter": "python",
   "pygments_lexer": "ipython3",
   "version": "3.9.7"
  }
 },
 "nbformat": 4,
 "nbformat_minor": 5
}
